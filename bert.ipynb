{
 "cells": [
  {
   "cell_type": "markdown",
   "metadata": {},
   "source": [
    "# Обучение и предсказание Типа обращения и Типа переклассификации при помощи RuBert"
   ]
  },
  {
   "cell_type": "markdown",
   "metadata": {},
   "source": [
    "В качестве предобученной модели используется `DeepPavlov/rubert-base-cased-sentence`, которая дообучается на наших данных на 5 эпохах"
   ]
  },
  {
   "cell_type": "code",
   "execution_count": 2,
   "metadata": {
    "colab": {
     "base_uri": "https://localhost:8080/"
    },
    "id": "dp6U94grGUIq",
    "outputId": "05eadd2e-7829-4877-a381-52be92aa5601"
   },
   "outputs": [
    {
     "name": "stdout",
     "output_type": "stream",
     "text": [
      "Looking in indexes: https://pypi.org/simple, https://us-python.pkg.dev/colab-wheels/public/simple/\n",
      "Collecting transformers\n",
      "  Downloading transformers-4.29.2-py3-none-any.whl (7.1 MB)\n",
      "\u001b[2K     \u001b[90m━━━━━━━━━━━━━━━━━━━━━━━━━━━━━━━━━━━━━━━━\u001b[0m \u001b[32m7.1/7.1 MB\u001b[0m \u001b[31m94.4 MB/s\u001b[0m eta \u001b[36m0:00:00\u001b[0m\n",
      "\u001b[?25hRequirement already satisfied: filelock in /usr/local/lib/python3.10/dist-packages (from transformers) (3.12.0)\n",
      "Collecting huggingface-hub<1.0,>=0.14.1 (from transformers)\n",
      "  Downloading huggingface_hub-0.14.1-py3-none-any.whl (224 kB)\n",
      "\u001b[2K     \u001b[90m━━━━━━━━━━━━━━━━━━━━━━━━━━━━━━━━━━━━━━\u001b[0m \u001b[32m224.5/224.5 kB\u001b[0m \u001b[31m24.4 MB/s\u001b[0m eta \u001b[36m0:00:00\u001b[0m\n",
      "\u001b[?25hRequirement already satisfied: numpy>=1.17 in /usr/local/lib/python3.10/dist-packages (from transformers) (1.22.4)\n",
      "Requirement already satisfied: packaging>=20.0 in /usr/local/lib/python3.10/dist-packages (from transformers) (23.1)\n",
      "Requirement already satisfied: pyyaml>=5.1 in /usr/local/lib/python3.10/dist-packages (from transformers) (6.0)\n",
      "Requirement already satisfied: regex!=2019.12.17 in /usr/local/lib/python3.10/dist-packages (from transformers) (2022.10.31)\n",
      "Requirement already satisfied: requests in /usr/local/lib/python3.10/dist-packages (from transformers) (2.27.1)\n",
      "Collecting tokenizers!=0.11.3,<0.14,>=0.11.1 (from transformers)\n",
      "  Downloading tokenizers-0.13.3-cp310-cp310-manylinux_2_17_x86_64.manylinux2014_x86_64.whl (7.8 MB)\n",
      "\u001b[2K     \u001b[90m━━━━━━━━━━━━━━━━━━━━━━━━━━━━━━━━━━━━━━━━\u001b[0m \u001b[32m7.8/7.8 MB\u001b[0m \u001b[31m106.4 MB/s\u001b[0m eta \u001b[36m0:00:00\u001b[0m\n",
      "\u001b[?25hRequirement already satisfied: tqdm>=4.27 in /usr/local/lib/python3.10/dist-packages (from transformers) (4.65.0)\n",
      "Requirement already satisfied: fsspec in /usr/local/lib/python3.10/dist-packages (from huggingface-hub<1.0,>=0.14.1->transformers) (2023.4.0)\n",
      "Requirement already satisfied: typing-extensions>=3.7.4.3 in /usr/local/lib/python3.10/dist-packages (from huggingface-hub<1.0,>=0.14.1->transformers) (4.5.0)\n",
      "Requirement already satisfied: urllib3<1.27,>=1.21.1 in /usr/local/lib/python3.10/dist-packages (from requests->transformers) (1.26.15)\n",
      "Requirement already satisfied: certifi>=2017.4.17 in /usr/local/lib/python3.10/dist-packages (from requests->transformers) (2022.12.7)\n",
      "Requirement already satisfied: charset-normalizer~=2.0.0 in /usr/local/lib/python3.10/dist-packages (from requests->transformers) (2.0.12)\n",
      "Requirement already satisfied: idna<4,>=2.5 in /usr/local/lib/python3.10/dist-packages (from requests->transformers) (3.4)\n",
      "Installing collected packages: tokenizers, huggingface-hub, transformers\n",
      "Successfully installed huggingface-hub-0.14.1 tokenizers-0.13.3 transformers-4.29.2\n"
     ]
    }
   ],
   "source": [
    "!pip install transformers"
   ]
  },
  {
   "cell_type": "markdown",
   "metadata": {},
   "source": [
    "Создание класса `Dataset'а` и самого классификатора, а также функции для обучения, валидации и предсказания"
   ]
  },
  {
   "cell_type": "code",
   "execution_count": 1,
   "metadata": {
    "id": "iaQXfoiRGW0B"
   },
   "outputs": [],
   "source": [
    "import transformers\n",
    "from transformers import BertTokenizer, BertModel, AdamW, get_linear_schedule_with_warmup\n",
    "import torch\n",
    "import nltk\n",
    "import warnings\n",
    "import string\n",
    "import re\n",
    "import random\n",
    "from nltk.corpus import stopwords\n",
    "import numpy as np\n",
    "import pandas as pd\n",
    "from tqdm import tqdm\n",
    "from sklearn.model_selection import train_test_split\n",
    "from sklearn.metrics import classification_report\n",
    "from torch import nn, optim\n",
    "import torch.nn.functional as F\n",
    "from torch.utils.data import Dataset, DataLoader, RandomSampler, SequentialSampler\n",
    "\n",
    "warnings.filterwarnings('ignore')\n",
    "\n",
    "tokenizer = BertTokenizer.from_pretrained('DeepPavlov/rubert-base-cased-sentence')\n",
    "model = BertModel.from_pretrained('DeepPavlov/rubert-base-cased-sentence')\n",
    "device = torch.device('cuda' if torch.cuda.is_available() else 'cpu')\n",
    "\n",
    "def seed(value):\n",
    "    random.seed(value)\n",
    "    torch.manual_seed(value)\n",
    "    torch.cuda.manual_seed(value)\n",
    "    \n",
    "class CBCaseDataset(Dataset):\n",
    "    def __init__(self, texts, targets, tokenizer, max_len):\n",
    "        self.texts = texts\n",
    "        self.targets = targets\n",
    "        self.tokenizer = tokenizer\n",
    "        self.max_len = max_len\n",
    "\n",
    "    def __len__(self):\n",
    "        return len(self.texts)\n",
    "\n",
    "    def __getitem__(self, item):\n",
    "        text = str(self.texts[item])\n",
    "        target = self.targets[item]\n",
    "        \n",
    "        encoding = self.tokenizer.encode_plus(\n",
    "            text,\n",
    "            add_special_tokens=True,\n",
    "            max_length=self.max_len,\n",
    "            return_token_type_ids=False,\n",
    "            pad_to_max_length=True,\n",
    "            return_attention_mask=True,\n",
    "            return_tensors='pt',\n",
    "            truncation=True,\n",
    "        )\n",
    "        return {\n",
    "            'text': text,\n",
    "            'input_ids': encoding['input_ids'].flatten(),\n",
    "            'attention_mask': encoding['attention_mask'].flatten(),\n",
    "            'targets': torch.tensor(target, dtype=torch.long)\n",
    "        }\n",
    "    \n",
    "class CBCaseClassifier(nn.Module):\n",
    "    def __init__(self, n_classes):\n",
    "        super(CBCaseClassifier, self).__init__()\n",
    "        self.bert = model\n",
    "        self.drop = nn.Dropout(p=0.3)\n",
    "        self.out = nn.Linear(self.bert.config.hidden_size, n_classes)\n",
    "\n",
    "    def forward(self, input_ids, attention_mask):\n",
    "        outputs = self.bert(input_ids=input_ids, attention_mask=attention_mask)\n",
    "        last_hidden_state_cls = outputs[0][:, 0, :]\n",
    "        \n",
    "        return self.out(self.drop(last_hidden_state_cls))\n",
    "    \n",
    "def create_train_dataloader(X_data, y_data, tokenizer, batch_size, max_len):\n",
    "    dataset = CBCaseDataset(\n",
    "        texts=X_data,\n",
    "        targets=y_data,\n",
    "        tokenizer=tokenizer,\n",
    "        max_len=max_len\n",
    "    )\n",
    "    \n",
    "    return DataLoader(\n",
    "        dataset,\n",
    "        sampler = RandomSampler(dataset),\n",
    "        batch_size=batch_size,\n",
    "    )\n",
    "\n",
    "def create_test_dataloader(X_data, tokenizer, batch_size, max_len):\n",
    "    dataset = CBCaseDataset(\n",
    "        texts=X_data,\n",
    "        targets=[0] * len(X_data),\n",
    "        tokenizer=tokenizer,\n",
    "        max_len=max_len\n",
    "    )\n",
    "    \n",
    "    return DataLoader(\n",
    "        dataset,\n",
    "        sampler = SequentialSampler(dataset),\n",
    "        batch_size=batch_size,\n",
    "    )\n",
    "\n",
    "def train_epoch(model, data_loader, loss_fn, optimizer, device, scheduler, n_examples):\n",
    "    model = model.train()\n",
    "    losses = []\n",
    "    correct_predictions = 0\n",
    "\n",
    "    for d in tqdm(data_loader, desc='TRAIN'):\n",
    "        input_ids = d['input_ids'].to(device)\n",
    "        attention_mask = d['attention_mask'].to(device)\n",
    "        targets = d['targets'].to(device)\n",
    "\n",
    "        outputs = model(input_ids=input_ids, attention_mask=attention_mask)\n",
    "        _, preds = torch.max(outputs, dim=1)\n",
    "\n",
    "        loss = loss_fn(outputs, targets)\n",
    "        correct_predictions += torch.sum(preds == targets)\n",
    "\n",
    "        losses.append(loss.item())\n",
    "        loss.backward()\n",
    "\n",
    "        nn.utils.clip_grad_norm_(model.parameters(), max_norm=1.0)\n",
    "\n",
    "        optimizer.step()\n",
    "        scheduler.step()\n",
    "        optimizer.zero_grad()\n",
    "        \n",
    "    return correct_predictions.double() / n_examples, np.mean(losses)\n",
    "\n",
    "@torch.no_grad()\n",
    "def eval_model(model, data_loader, loss_fn, device, n_examples):\n",
    "    model = model.eval()\n",
    "    losses = []\n",
    "    correct_predictions = 0\n",
    "\n",
    "    for d in tqdm(data_loader, desc='EVALUATION'):\n",
    "        input_ids = d['input_ids'].to(device)\n",
    "        attention_mask = d['attention_mask'].to(device)\n",
    "        targets = d['targets'].to(device)\n",
    "\n",
    "        outputs = model(input_ids=input_ids, attention_mask=attention_mask)\n",
    "        _, preds = torch.max(outputs, dim=1)\n",
    "\n",
    "        loss = loss_fn(outputs, targets)\n",
    "        correct_predictions += torch.sum(preds == targets)\n",
    "\n",
    "        losses.append(loss.item())\n",
    "        \n",
    "    return correct_predictions.double() / n_examples, np.mean(losses)\n",
    "\n",
    "@torch.no_grad()\n",
    "def get_predictions(model, data_loader):\n",
    "    model.eval()\n",
    "    \n",
    "    predictions = []\n",
    "    prediction_probs = []\n",
    "    real_values = []\n",
    "    \n",
    "    for d in data_loader:\n",
    "        input_ids = d['input_ids'].to(device)\n",
    "        attention_mask = d['attention_mask'].to(device)\n",
    "\n",
    "        outputs = F.softmax(model(\n",
    "            input_ids=input_ids,\n",
    "            attention_mask=attention_mask\n",
    "        ))\n",
    "        _, preds = torch.max(outputs, dim=1)\n",
    "\n",
    "        predictions.extend(preds)\n",
    "        prediction_probs.extend(outputs)\n",
    "\n",
    "    predictions = torch.stack(predictions).cpu()\n",
    "    prediction_probs = torch.stack(prediction_probs).cpu()\n",
    "    \n",
    "    return predictions, prediction_probs\n",
    "\n",
    "def training(data, test_data, main_feature, target_feature, batch_size, epochs, learning_rate_optimizer, n_classes):\n",
    "    seed(42)\n",
    "\n",
    "    sample = data.sample(frac=1, random_state=42)\n",
    "    train_data = sample.iloc[data.shape[0] // 100 * 8:]\n",
    "    valid_data = sample.iloc[:data.shape[0] // 100 * 8]\n",
    "    \n",
    "    X_train = train_data[main_feature].values\n",
    "    y_train = train_data[target_feature].values\n",
    "    \n",
    "    X_valid = valid_data[main_feature].values\n",
    "    y_valid = valid_data[target_feature].values\n",
    "\n",
    "    X_test = test_data[main_feature].values\n",
    "\n",
    "    train_tokenized = [tokenizer.encode(x, add_special_tokens=True) for x in X_train]\n",
    "    valid_tokenized = [tokenizer.encode(x, add_special_tokens=True) for x in X_valid]\n",
    "    test_tokenized = [tokenizer.encode(x, add_special_tokens=True) for x in X_test]\n",
    "\n",
    "    train_max_len = max(map(len, train_tokenized))\n",
    "    valid_max_len = max(map(len, valid_tokenized))\n",
    "    test_max_len = max(map(len, test_tokenized))\n",
    "\n",
    "    train_data_loader = create_train_dataloader(X_train, y_train, tokenizer, batch_size, train_max_len)\n",
    "    valid_data_loader = create_test_dataloader(X_valid, tokenizer, batch_size, valid_max_len)\n",
    "    test_data_loader = create_test_dataloader(X_test, tokenizer, batch_size, test_max_len)\n",
    "\n",
    "    model = CBCaseClassifier(n_classes)\n",
    "    model = model.to(device)\n",
    "\n",
    "    optimizer = AdamW(model.parameters(), lr=learning_rate_optimizer, correct_bias=False)\n",
    "\n",
    "    total_steps = len(train_data_loader) * epochs\n",
    "\n",
    "    scheduler = get_linear_schedule_with_warmup(\n",
    "        optimizer,\n",
    "        num_warmup_steps=0,\n",
    "        num_training_steps=total_steps\n",
    "    )\n",
    "\n",
    "    loss_fn = nn.CrossEntropyLoss().to(device)\n",
    "\n",
    "    for epoch in range(epochs):\n",
    "        print(f'Epoch {epoch + 1:2d}/{epochs:2d}')\n",
    "        print('-' * 25)\n",
    "\n",
    "        train_acc, train_loss = train_epoch(model, train_data_loader, loss_fn, optimizer, device, scheduler, len(X_train))\n",
    "        valid_acc, valid_loss = eval_model(model, valid_data_loader, loss_fn, device, len(X_valid))\n",
    "        \n",
    "        print(f'Train loss {train_loss:.4f} accuracy {train_acc:.4f}')\n",
    "        print(f'Valid loss {valid_loss:.4f} accuracy {valid_acc:.4f}')\n",
    "\n",
    "    predicted_valid_labels, prediction_probs_valid = get_predictions(model, valid_data_loader)\n",
    "    predicted_test_labels, prediction_probs_test = get_predictions(model, test_data_loader)\n",
    "\n",
    "    print('Результаты:')\n",
    "    print(classification_report(y_valid,\n",
    "                                predicted_valid_labels,\n",
    "                                target_names=['Запрос', 'Инцидент']))\n",
    "    \n",
    "    print('Результаты с порогом в 0.35:')\n",
    "    print(classification_report(y_valid, \n",
    "                                np.array(prediction_probs_valid[:, 1] > 0.35).astype(int),\n",
    "                                target_names=['Запрос', 'Инцидент']))\n",
    "\n",
    "    return predicted_test_labels, prediction_probs_test"
   ]
  },
  {
   "cell_type": "markdown",
   "metadata": {},
   "source": [
    "Чтение данных"
   ]
  },
  {
   "cell_type": "code",
   "execution_count": 2,
   "metadata": {
    "id": "nDszUTwaIfss"
   },
   "outputs": [],
   "source": [
    "TRAIN_PATH = 'train.csv'\n",
    "TEST_PATH = 'test.csv'"
   ]
  },
  {
   "cell_type": "code",
   "execution_count": 3,
   "metadata": {
    "id": "O_hNHz6rI5Tu"
   },
   "outputs": [],
   "source": [
    "train = pd.read_csv(TRAIN_PATH)\n",
    "test = pd.read_csv(TEST_PATH)"
   ]
  },
  {
   "cell_type": "markdown",
   "metadata": {},
   "source": [
    "Предобработка данных"
   ]
  },
  {
   "cell_type": "code",
   "execution_count": 4,
   "metadata": {
    "id": "LdNxBAcgODIZ"
   },
   "outputs": [],
   "source": [
    "TYPE_DICT = {'Запрос': 0, 'Инцидент': 1}\n",
    "\n",
    "def lowercasing(text: str) -> str:\n",
    "    return text.lower()\n",
    "\n",
    "def delete_punctuation(text: str) -> str:\n",
    "    return re.sub(r'[^\\w\\s]','', text)\n",
    "\n",
    "    return new_text\n",
    "\n",
    "def preprocess(df: pd.DataFrame, is_train: bool = True) -> pd.DataFrame:\n",
    "    if is_train:\n",
    "        df['Тип обращения итоговый'] = df['Тип обращения итоговый'].map(TYPE_DICT)\n",
    "    \n",
    "    df['Содержание'] = df['Содержание'].fillna('нет данных')\n",
    "    df['Содержание'] = df['Содержание'].apply(lowercasing)\n",
    "    df['Содержание'] = df['Содержание'].apply(delete_punctuation)\n",
    "\n",
    "    return df"
   ]
  },
  {
   "cell_type": "code",
   "execution_count": 5,
   "metadata": {
    "id": "SBOSiDPFOFX3"
   },
   "outputs": [],
   "source": [
    "train = preprocess(train)\n",
    "test = preprocess(test, False)"
   ]
  },
  {
   "cell_type": "markdown",
   "metadata": {},
   "source": [
    "Запуск обучения на 5 эпохах и вывод результатов по метрикам"
   ]
  },
  {
   "cell_type": "code",
   "execution_count": 6,
   "metadata": {
    "colab": {
     "base_uri": "https://localhost:8080/"
    },
    "id": "7SnxeCusyzrj",
    "outputId": "a5da80cb-0694-48e2-b00f-b530cee62643"
   },
   "outputs": [
    {
     "name": "stdout",
     "output_type": "stream",
     "text": [
      "Epoch  1/ 5\n",
      "-------------------------\n"
     ]
    },
    {
     "name": "stderr",
     "output_type": "stream",
     "text": [
      "TRAIN: 100%|██████████| 426/426 [01:22<00:00,  5.17it/s]\n",
      "EVALUATION: 100%|██████████| 37/37 [00:02<00:00, 18.29it/s]\n"
     ]
    },
    {
     "name": "stdout",
     "output_type": "stream",
     "text": [
      "Train loss 0.0783 accuracy 0.9678\n",
      "Valid loss 0.0377 accuracy 0.9882\n",
      "Epoch  2/ 5\n",
      "-------------------------\n"
     ]
    },
    {
     "name": "stderr",
     "output_type": "stream",
     "text": [
      "TRAIN: 100%|██████████| 426/426 [01:21<00:00,  5.24it/s]\n",
      "EVALUATION: 100%|██████████| 37/37 [00:02<00:00, 18.12it/s]\n"
     ]
    },
    {
     "name": "stdout",
     "output_type": "stream",
     "text": [
      "Train loss 0.0464 accuracy 0.9818\n",
      "Valid loss 0.0586 accuracy 0.9764\n",
      "Epoch  3/ 5\n",
      "-------------------------\n"
     ]
    },
    {
     "name": "stderr",
     "output_type": "stream",
     "text": [
      "TRAIN: 100%|██████████| 426/426 [01:21<00:00,  5.24it/s]\n",
      "EVALUATION: 100%|██████████| 37/37 [00:02<00:00, 13.66it/s]\n"
     ]
    },
    {
     "name": "stdout",
     "output_type": "stream",
     "text": [
      "Train loss 0.0291 accuracy 0.9904\n",
      "Valid loss 0.0745 accuracy 0.9848\n",
      "Epoch  4/ 5\n",
      "-------------------------\n"
     ]
    },
    {
     "name": "stderr",
     "output_type": "stream",
     "text": [
      "TRAIN: 100%|██████████| 426/426 [01:20<00:00,  5.31it/s]\n",
      "EVALUATION: 100%|██████████| 37/37 [00:02<00:00, 18.17it/s]\n"
     ]
    },
    {
     "name": "stdout",
     "output_type": "stream",
     "text": [
      "Train loss 0.0230 accuracy 0.9922\n",
      "Valid loss 0.0927 accuracy 0.9806\n",
      "Epoch  5/ 5\n",
      "-------------------------\n"
     ]
    },
    {
     "name": "stderr",
     "output_type": "stream",
     "text": [
      "TRAIN: 100%|██████████| 426/426 [01:21<00:00,  5.20it/s]\n",
      "EVALUATION: 100%|██████████| 37/37 [00:02<00:00, 15.72it/s]\n"
     ]
    },
    {
     "name": "stdout",
     "output_type": "stream",
     "text": [
      "Train loss 0.0191 accuracy 0.9933\n",
      "Valid loss 0.0893 accuracy 0.9823\n",
      "Результаты:\n",
      "              precision    recall  f1-score   support\n",
      "\n",
      "      Запрос       0.99      1.00      0.99      1154\n",
      "    Инцидент       0.86      0.60      0.71        30\n",
      "\n",
      "    accuracy                           0.99      1184\n",
      "   macro avg       0.92      0.80      0.85      1184\n",
      "weighted avg       0.99      0.99      0.99      1184\n",
      "\n",
      "Результаты с порогом в 0.35:\n",
      "              precision    recall  f1-score   support\n",
      "\n",
      "      Запрос       0.99      1.00      0.99      1154\n",
      "    Инцидент       0.83      0.63      0.72        30\n",
      "\n",
      "    accuracy                           0.99      1184\n",
      "   macro avg       0.91      0.81      0.86      1184\n",
      "weighted avg       0.99      0.99      0.99      1184\n",
      "\n"
     ]
    }
   ],
   "source": [
    "predicted_labels, prediction_probs = training(data=train,\n",
    "                                              test_data=test,\n",
    "                                              main_feature='Содержание',\n",
    "                                              target_feature='Тип обращения итоговый',\n",
    "                                              batch_size=32,\n",
    "                                              epochs=5,\n",
    "                                              learning_rate_optimizer=2e-5,\n",
    "                                              n_classes=2)"
   ]
  },
  {
   "cell_type": "markdown",
   "metadata": {},
   "source": [
    "Создание submission-файлов"
   ]
  },
  {
   "cell_type": "code",
   "execution_count": 7,
   "metadata": {
    "id": "a_T90XiKVExV"
   },
   "outputs": [],
   "source": [
    "submission = pd.read_csv('submission.csv')"
   ]
  },
  {
   "cell_type": "code",
   "execution_count": 8,
   "metadata": {
    "colab": {
     "base_uri": "https://localhost:8080/",
     "height": 206
    },
    "id": "QAES3MFqVRyP",
    "outputId": "cee3ab1b-2ac0-4238-bd09-1ea4fbc7cd1c"
   },
   "outputs": [
    {
     "data": {
      "text/html": [
       "\n",
       "  <div id=\"df-109f464f-abe7-4cba-9619-dc7548ce557e\">\n",
       "    <div class=\"colab-df-container\">\n",
       "      <div>\n",
       "<style scoped>\n",
       "    .dataframe tbody tr th:only-of-type {\n",
       "        vertical-align: middle;\n",
       "    }\n",
       "\n",
       "    .dataframe tbody tr th {\n",
       "        vertical-align: top;\n",
       "    }\n",
       "\n",
       "    .dataframe thead th {\n",
       "        text-align: right;\n",
       "    }\n",
       "</style>\n",
       "<table border=\"1\" class=\"dataframe\">\n",
       "  <thead>\n",
       "    <tr style=\"text-align: right;\">\n",
       "      <th></th>\n",
       "      <th>id</th>\n",
       "      <th>Тип переклассификации</th>\n",
       "      <th>Тип обращения итоговый</th>\n",
       "    </tr>\n",
       "  </thead>\n",
       "  <tbody>\n",
       "    <tr>\n",
       "      <th>0</th>\n",
       "      <td>14803</td>\n",
       "      <td>NaN</td>\n",
       "      <td>NaN</td>\n",
       "    </tr>\n",
       "    <tr>\n",
       "      <th>1</th>\n",
       "      <td>14804</td>\n",
       "      <td>NaN</td>\n",
       "      <td>NaN</td>\n",
       "    </tr>\n",
       "    <tr>\n",
       "      <th>2</th>\n",
       "      <td>14805</td>\n",
       "      <td>NaN</td>\n",
       "      <td>NaN</td>\n",
       "    </tr>\n",
       "    <tr>\n",
       "      <th>3</th>\n",
       "      <td>14806</td>\n",
       "      <td>NaN</td>\n",
       "      <td>NaN</td>\n",
       "    </tr>\n",
       "    <tr>\n",
       "      <th>4</th>\n",
       "      <td>14807</td>\n",
       "      <td>NaN</td>\n",
       "      <td>NaN</td>\n",
       "    </tr>\n",
       "  </tbody>\n",
       "</table>\n",
       "</div>\n",
       "      <button class=\"colab-df-convert\" onclick=\"convertToInteractive('df-109f464f-abe7-4cba-9619-dc7548ce557e')\"\n",
       "              title=\"Convert this dataframe to an interactive table.\"\n",
       "              style=\"display:none;\">\n",
       "        \n",
       "  <svg xmlns=\"http://www.w3.org/2000/svg\" height=\"24px\"viewBox=\"0 0 24 24\"\n",
       "       width=\"24px\">\n",
       "    <path d=\"M0 0h24v24H0V0z\" fill=\"none\"/>\n",
       "    <path d=\"M18.56 5.44l.94 2.06.94-2.06 2.06-.94-2.06-.94-.94-2.06-.94 2.06-2.06.94zm-11 1L8.5 8.5l.94-2.06 2.06-.94-2.06-.94L8.5 2.5l-.94 2.06-2.06.94zm10 10l.94 2.06.94-2.06 2.06-.94-2.06-.94-.94-2.06-.94 2.06-2.06.94z\"/><path d=\"M17.41 7.96l-1.37-1.37c-.4-.4-.92-.59-1.43-.59-.52 0-1.04.2-1.43.59L10.3 9.45l-7.72 7.72c-.78.78-.78 2.05 0 2.83L4 21.41c.39.39.9.59 1.41.59.51 0 1.02-.2 1.41-.59l7.78-7.78 2.81-2.81c.8-.78.8-2.07 0-2.86zM5.41 20L4 18.59l7.72-7.72 1.47 1.35L5.41 20z\"/>\n",
       "  </svg>\n",
       "      </button>\n",
       "      \n",
       "  <style>\n",
       "    .colab-df-container {\n",
       "      display:flex;\n",
       "      flex-wrap:wrap;\n",
       "      gap: 12px;\n",
       "    }\n",
       "\n",
       "    .colab-df-convert {\n",
       "      background-color: #E8F0FE;\n",
       "      border: none;\n",
       "      border-radius: 50%;\n",
       "      cursor: pointer;\n",
       "      display: none;\n",
       "      fill: #1967D2;\n",
       "      height: 32px;\n",
       "      padding: 0 0 0 0;\n",
       "      width: 32px;\n",
       "    }\n",
       "\n",
       "    .colab-df-convert:hover {\n",
       "      background-color: #E2EBFA;\n",
       "      box-shadow: 0px 1px 2px rgba(60, 64, 67, 0.3), 0px 1px 3px 1px rgba(60, 64, 67, 0.15);\n",
       "      fill: #174EA6;\n",
       "    }\n",
       "\n",
       "    [theme=dark] .colab-df-convert {\n",
       "      background-color: #3B4455;\n",
       "      fill: #D2E3FC;\n",
       "    }\n",
       "\n",
       "    [theme=dark] .colab-df-convert:hover {\n",
       "      background-color: #434B5C;\n",
       "      box-shadow: 0px 1px 3px 1px rgba(0, 0, 0, 0.15);\n",
       "      filter: drop-shadow(0px 1px 2px rgba(0, 0, 0, 0.3));\n",
       "      fill: #FFFFFF;\n",
       "    }\n",
       "  </style>\n",
       "\n",
       "      <script>\n",
       "        const buttonEl =\n",
       "          document.querySelector('#df-109f464f-abe7-4cba-9619-dc7548ce557e button.colab-df-convert');\n",
       "        buttonEl.style.display =\n",
       "          google.colab.kernel.accessAllowed ? 'block' : 'none';\n",
       "\n",
       "        async function convertToInteractive(key) {\n",
       "          const element = document.querySelector('#df-109f464f-abe7-4cba-9619-dc7548ce557e');\n",
       "          const dataTable =\n",
       "            await google.colab.kernel.invokeFunction('convertToInteractive',\n",
       "                                                     [key], {});\n",
       "          if (!dataTable) return;\n",
       "\n",
       "          const docLinkHtml = 'Like what you see? Visit the ' +\n",
       "            '<a target=\"_blank\" href=https://colab.research.google.com/notebooks/data_table.ipynb>data table notebook</a>'\n",
       "            + ' to learn more about interactive tables.';\n",
       "          element.innerHTML = '';\n",
       "          dataTable['output_type'] = 'display_data';\n",
       "          await google.colab.output.renderOutput(dataTable, element);\n",
       "          const docLink = document.createElement('div');\n",
       "          docLink.innerHTML = docLinkHtml;\n",
       "          element.appendChild(docLink);\n",
       "        }\n",
       "      </script>\n",
       "    </div>\n",
       "  </div>\n",
       "  "
      ],
      "text/plain": [
       "      id  Тип переклассификации  Тип обращения итоговый\n",
       "0  14803                    NaN                     NaN\n",
       "1  14804                    NaN                     NaN\n",
       "2  14805                    NaN                     NaN\n",
       "3  14806                    NaN                     NaN\n",
       "4  14807                    NaN                     NaN"
      ]
     },
     "execution_count": 8,
     "metadata": {},
     "output_type": "execute_result"
    }
   ],
   "source": [
    "submission.head()"
   ]
  },
  {
   "cell_type": "code",
   "execution_count": 9,
   "metadata": {
    "id": "bLPi3bdhwjKt"
   },
   "outputs": [],
   "source": [
    "REV_TYPE_DICT = {0: 'Запрос', 1: 'Инцидент'}\n",
    "\n",
    "def make_submisssion_file(df_subm: pd.DataFrame, df_test: pd.DataFrame, results: np.array, file_path: str) -> pd.DataFrame:\n",
    "    df_subm['Тип обращения итоговый'] = results\n",
    "    df_subm['Тип обращения итоговый'] = df_subm['Тип обращения итоговый'].map(REV_TYPE_DICT)\n",
    "\n",
    "    df_subm_m = df_subm.merge(df_test[['id', 'Тип обращения на момент подачи']], on='id')\n",
    "\n",
    "    df_subm_m.loc[df_subm_m['Тип обращения итоговый'] == df_subm_m['Тип обращения на момент подачи'], \n",
    "                 'Тип переклассификации'] = 0\n",
    "    df_subm_m.loc[(df_subm_m['Тип обращения итоговый'] == 'Инцидент') &\n",
    "                  (df_subm_m['Тип обращения на момент подачи'] == 'Запрос'), \n",
    "                  'Тип переклассификации'] = 1\n",
    "    df_subm_m.loc[(df_subm_m['Тип обращения итоговый'] == 'Запрос') &\n",
    "                  (df_subm_m['Тип обращения на момент подачи'] == 'Инцидент'), \n",
    "                  'Тип переклассификации'] = 2\n",
    "\n",
    "    df_subm_m['Тип переклассификации'] = df_subm_m['Тип переклассификации'].astype(int)\n",
    "\n",
    "    df_subm = df_subm_m[['id', 'Тип переклассификации', 'Тип обращения итоговый']]\n",
    "    display(df_subm['Тип переклассификации'].value_counts())\n",
    "\n",
    "    df_subm.to_csv(file_path, index=False)\n",
    "\n",
    "    return df_subm"
   ]
  },
  {
   "cell_type": "code",
   "execution_count": 10,
   "metadata": {
    "colab": {
     "base_uri": "https://localhost:8080/",
     "height": 89
    },
    "id": "SyV0rR6pyPWZ",
    "outputId": "453b5499-b092-4d55-87b2-82a91f8e6cff"
   },
   "outputs": [
    {
     "data": {
      "text/plain": [
       "0    5946\n",
       "2     362\n",
       "1      36\n",
       "Name: Тип переклассификации, dtype: int64"
      ]
     },
     "metadata": {},
     "output_type": "display_data"
    }
   ],
   "source": [
    "submission_wo_thr = make_submisssion_file(submission, \n",
    "                                          test, \n",
    "                                          np.array(predicted_labels), \n",
    "                                          'submission_bert_wo_threshold.csv')"
   ]
  },
  {
   "cell_type": "code",
   "execution_count": 11,
   "metadata": {
    "colab": {
     "base_uri": "https://localhost:8080/",
     "height": 89
    },
    "id": "mTYTVml-ymUJ",
    "outputId": "563f6b48-75af-45e4-92c1-fe48c4547395"
   },
   "outputs": [
    {
     "data": {
      "text/plain": [
       "0    5947\n",
       "2     359\n",
       "1      38\n",
       "Name: Тип переклассификации, dtype: int64"
      ]
     },
     "metadata": {},
     "output_type": "display_data"
    }
   ],
   "source": [
    "submission_w_thr = make_submisssion_file(submission, \n",
    "                                          test, \n",
    "                                          np.array(prediction_probs[:, 1] > 0.35).astype(int), \n",
    "                                          'submission_bert_w_threshold_0_35.csv')"
   ]
  },
  {
   "cell_type": "code",
   "execution_count": null,
   "metadata": {
    "id": "ABVqMsfz7oPB"
   },
   "outputs": [],
   "source": []
  },
  {
   "cell_type": "code",
   "execution_count": null,
   "metadata": {},
   "outputs": [],
   "source": []
  },
  {
   "cell_type": "code",
   "execution_count": null,
   "metadata": {},
   "outputs": [],
   "source": []
  }
 ],
 "metadata": {
  "accelerator": "GPU",
  "colab": {
   "gpuType": "T4",
   "provenance": []
  },
  "gpuClass": "standard",
  "kernelspec": {
   "display_name": "Python 3 (ipykernel)",
   "language": "python",
   "name": "python3"
  },
  "language_info": {
   "codemirror_mode": {
    "name": "ipython",
    "version": 3
   },
   "file_extension": ".py",
   "mimetype": "text/x-python",
   "name": "python",
   "nbconvert_exporter": "python",
   "pygments_lexer": "ipython3",
   "version": "3.8.12"
  }
 },
 "nbformat": 4,
 "nbformat_minor": 1
}
