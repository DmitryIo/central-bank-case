{
 "cells": [
  {
   "cell_type": "markdown",
   "id": "4b21434e",
   "metadata": {},
   "source": [
    "# Проведение первичного анализа"
   ]
  },
  {
   "cell_type": "markdown",
   "id": "06dc0aba",
   "metadata": {},
   "source": [
    "В данном ноутбуке проводится разведочный анализ данных и визуализация"
   ]
  },
  {
   "cell_type": "markdown",
   "id": "f5edc7db",
   "metadata": {},
   "source": [
    "## Импорты и данные"
   ]
  },
  {
   "cell_type": "code",
   "execution_count": 1,
   "id": "c1466d80",
   "metadata": {},
   "outputs": [],
   "source": [
    "import pandas as pd\n",
    "import numpy as np\n",
    "import matplotlib.pyplot as plt\n",
    "import seaborn as sns\n",
    "\n",
    "sns.set(style=\"darkgrid\")\n",
    "%matplotlib inline"
   ]
  },
  {
   "cell_type": "code",
   "execution_count": 2,
   "id": "402cd55c",
   "metadata": {},
   "outputs": [],
   "source": [
    "TRAIN_PATH = 'train.csv'\n",
    "TEST_PATH = 'test.csv'"
   ]
  },
  {
   "cell_type": "code",
   "execution_count": 3,
   "id": "d2def5b5",
   "metadata": {},
   "outputs": [],
   "source": [
    "train = pd.read_csv(TRAIN_PATH)\n",
    "test = pd.read_csv(TEST_PATH)"
   ]
  },
  {
   "cell_type": "markdown",
   "id": "474757d2",
   "metadata": {},
   "source": [
    "## EDA"
   ]
  },
  {
   "cell_type": "markdown",
   "id": "4fe73dc5",
   "metadata": {},
   "source": [
    "Вспомогательные функции"
   ]
  },
  {
   "cell_type": "code",
   "execution_count": 4,
   "id": "e1971be8",
   "metadata": {},
   "outputs": [],
   "source": [
    "DATE_COLUMNS = ['Дата обращения', 'Крайний срок', 'Дата восстановления', 'Дата закрытия обращения']\n",
    "def renaming(df: pd.DataFrame) -> pd.DataFrame:\n",
    "    return df.rename(columns={'Решение             ': 'Решение'})\n",
    "\n",
    "def look_on_column_values(train: pd.DataFrame, test: pd.DataFrame, column: str) -> None:\n",
    "    train_unique_values = set(train[column].unique())\n",
    "    test_unique_values = set(test[column].unique())\n",
    "    union_unique_values = train_unique_values & test_unique_values\n",
    "\n",
    "    print('Количество уникальных значений столбца ' + column + ' в train:', len(train_unique_values))\n",
    "    print('Количество уникальных значений столбца ' + column + ' в test:', len(test_unique_values))\n",
    "    print('Количество уникальных значений столбца ' + column + ' в пересечении train и test:', len(union_unique_values), '\\n')\n",
    "    \n",
    "def change_date_types(df: pd.DataFrame) -> pd.DataFrame:\n",
    "    for column in DATE_COLUMNS:\n",
    "        df[column] = pd.to_datetime(df[column])\n",
    "        \n",
    "    return df"
   ]
  },
  {
   "cell_type": "markdown",
   "id": "dadd7a20",
   "metadata": {},
   "source": [
    "Окидываем сырые данные взглядом"
   ]
  },
  {
   "cell_type": "code",
   "execution_count": 5,
   "id": "9c052332",
   "metadata": {},
   "outputs": [
    {
     "data": {
      "text/html": [
       "<div>\n",
       "<style scoped>\n",
       "    .dataframe tbody tr th:only-of-type {\n",
       "        vertical-align: middle;\n",
       "    }\n",
       "\n",
       "    .dataframe tbody tr th {\n",
       "        vertical-align: top;\n",
       "    }\n",
       "\n",
       "    .dataframe thead th {\n",
       "        text-align: right;\n",
       "    }\n",
       "</style>\n",
       "<table border=\"1\" class=\"dataframe\">\n",
       "  <thead>\n",
       "    <tr style=\"text-align: right;\">\n",
       "      <th></th>\n",
       "      <th>Содержание</th>\n",
       "      <th>Сервис</th>\n",
       "      <th>Приоритет</th>\n",
       "      <th>Статус</th>\n",
       "      <th>Функциональная группа</th>\n",
       "      <th>Крайний срок</th>\n",
       "      <th>Дата обращения</th>\n",
       "      <th>Тип обращения на момент подачи</th>\n",
       "      <th>Тип обращения итоговый</th>\n",
       "      <th>Решение</th>\n",
       "      <th>Тип переклассификации</th>\n",
       "      <th>Дата восстановления</th>\n",
       "      <th>Дата закрытия обращения</th>\n",
       "      <th>Критичность</th>\n",
       "      <th>Влияние</th>\n",
       "      <th>Система</th>\n",
       "      <th>Место</th>\n",
       "    </tr>\n",
       "  </thead>\n",
       "  <tbody>\n",
       "    <tr>\n",
       "      <th>0</th>\n",
       "      <td>Тест</td>\n",
       "      <td>АРМ</td>\n",
       "      <td>3-Низкий</td>\n",
       "      <td>Отменен</td>\n",
       "      <td>ФГ1</td>\n",
       "      <td>2018-01-24 07:42</td>\n",
       "      <td>2018-01-19 09:27</td>\n",
       "      <td>Запрос</td>\n",
       "      <td>Запрос</td>\n",
       "      <td>Тест</td>\n",
       "      <td>0</td>\n",
       "      <td>NaN</td>\n",
       "      <td>2018-01-19 09:43</td>\n",
       "      <td>4-Нет</td>\n",
       "      <td>3-Малое</td>\n",
       "      <td>База</td>\n",
       "      <td>К</td>\n",
       "    </tr>\n",
       "    <tr>\n",
       "      <th>1</th>\n",
       "      <td>Тестовое обращение</td>\n",
       "      <td>АРМ</td>\n",
       "      <td>3-Низкий</td>\n",
       "      <td>Отменен</td>\n",
       "      <td>ФГ1</td>\n",
       "      <td>2018-01-24 10:51</td>\n",
       "      <td>2018-01-19 09:36</td>\n",
       "      <td>Запрос</td>\n",
       "      <td>Запрос</td>\n",
       "      <td>Тест</td>\n",
       "      <td>0</td>\n",
       "      <td>NaN</td>\n",
       "      <td>2018-01-19 09:41</td>\n",
       "      <td>4-Нет</td>\n",
       "      <td>3-Малое</td>\n",
       "      <td>База</td>\n",
       "      <td>К</td>\n",
       "    </tr>\n",
       "    <tr>\n",
       "      <th>2</th>\n",
       "      <td>Выполнена разблокировка у/з REGION\\*****</td>\n",
       "      <td>Сервис7</td>\n",
       "      <td>2-Средний</td>\n",
       "      <td>Закрыт</td>\n",
       "      <td>ФГ8</td>\n",
       "      <td>2018-01-31 07:51</td>\n",
       "      <td>2018-01-25 22:47</td>\n",
       "      <td>Запрос</td>\n",
       "      <td>Запрос</td>\n",
       "      <td>Выполнена разблокировка у/з Ne_bosS\\*********\\...</td>\n",
       "      <td>0</td>\n",
       "      <td>2018-01-25 22:47</td>\n",
       "      <td>2018-02-02 07:52</td>\n",
       "      <td>1-Особая</td>\n",
       "      <td>3-Малое</td>\n",
       "      <td>Система7</td>\n",
       "      <td>Место190</td>\n",
       "    </tr>\n",
       "    <tr>\n",
       "      <th>3</th>\n",
       "      <td>.Не включается ПК</td>\n",
       "      <td>АРМ</td>\n",
       "      <td>3-Низкий</td>\n",
       "      <td>Закрыт</td>\n",
       "      <td>ФГ390</td>\n",
       "      <td>2018-01-28 05:50</td>\n",
       "      <td>2018-01-25 23:13</td>\n",
       "      <td>Инцидент</td>\n",
       "      <td>Инцидент</td>\n",
       "      <td>Выход из стоя БП. Заменён.</td>\n",
       "      <td>0</td>\n",
       "      <td>2018-01-25 23:55</td>\n",
       "      <td>2018-01-26 00:00</td>\n",
       "      <td>4-Нет</td>\n",
       "      <td>3-Малое</td>\n",
       "      <td>База</td>\n",
       "      <td>Место177</td>\n",
       "    </tr>\n",
       "    <tr>\n",
       "      <th>4</th>\n",
       "      <td>Заявка № ***********, *******************</td>\n",
       "      <td>АРМ</td>\n",
       "      <td>3-Низкий</td>\n",
       "      <td>Закрыт</td>\n",
       "      <td>ФГ303</td>\n",
       "      <td>2018-02-03 02:51</td>\n",
       "      <td>2018-01-25 23:39</td>\n",
       "      <td>Запрос</td>\n",
       "      <td>Запрос</td>\n",
       "      <td>Работы по обращению выполнены</td>\n",
       "      <td>0</td>\n",
       "      <td>2018-01-28 02:54</td>\n",
       "      <td>2018-02-04 07:53</td>\n",
       "      <td>4-Нет</td>\n",
       "      <td>4-Нет влияния</td>\n",
       "      <td>База</td>\n",
       "      <td>Место216</td>\n",
       "    </tr>\n",
       "  </tbody>\n",
       "</table>\n",
       "</div>"
      ],
      "text/plain": [
       "                                  Содержание   Сервис  Приоритет   Статус  \\\n",
       "0                                       Тест      АРМ   3-Низкий  Отменен   \n",
       "1                         Тестовое обращение      АРМ   3-Низкий  Отменен   \n",
       "2   Выполнена разблокировка у/з REGION\\*****  Сервис7  2-Средний   Закрыт   \n",
       "3                          .Не включается ПК      АРМ   3-Низкий   Закрыт   \n",
       "4  Заявка № ***********, *******************      АРМ   3-Низкий   Закрыт   \n",
       "\n",
       "  Функциональная группа      Крайний срок    Дата обращения  \\\n",
       "0                   ФГ1  2018-01-24 07:42  2018-01-19 09:27   \n",
       "1                   ФГ1  2018-01-24 10:51  2018-01-19 09:36   \n",
       "2                   ФГ8  2018-01-31 07:51  2018-01-25 22:47   \n",
       "3                 ФГ390  2018-01-28 05:50  2018-01-25 23:13   \n",
       "4                 ФГ303  2018-02-03 02:51  2018-01-25 23:39   \n",
       "\n",
       "  Тип обращения на момент подачи Тип обращения итоговый  \\\n",
       "0                         Запрос                 Запрос   \n",
       "1                         Запрос                 Запрос   \n",
       "2                         Запрос                 Запрос   \n",
       "3                       Инцидент               Инцидент   \n",
       "4                         Запрос                 Запрос   \n",
       "\n",
       "                                Решение               Тип переклассификации  \\\n",
       "0                                               Тест                      0   \n",
       "1                                               Тест                      0   \n",
       "2  Выполнена разблокировка у/з Ne_bosS\\*********\\...                      0   \n",
       "3                         Выход из стоя БП. Заменён.                      0   \n",
       "4                      Работы по обращению выполнены                      0   \n",
       "\n",
       "  Дата восстановления Дата закрытия обращения Критичность        Влияние  \\\n",
       "0                 NaN        2018-01-19 09:43       4-Нет        3-Малое   \n",
       "1                 NaN        2018-01-19 09:41       4-Нет        3-Малое   \n",
       "2    2018-01-25 22:47        2018-02-02 07:52    1-Особая        3-Малое   \n",
       "3    2018-01-25 23:55        2018-01-26 00:00       4-Нет        3-Малое   \n",
       "4    2018-01-28 02:54        2018-02-04 07:53       4-Нет  4-Нет влияния   \n",
       "\n",
       "    Система     Место  \n",
       "0      База         К  \n",
       "1      База         К  \n",
       "2  Система7  Место190  \n",
       "3      База  Место177  \n",
       "4      База  Место216  "
      ]
     },
     "execution_count": 5,
     "metadata": {},
     "output_type": "execute_result"
    }
   ],
   "source": [
    "train.head()"
   ]
  },
  {
   "cell_type": "code",
   "execution_count": 6,
   "id": "8ed59f24",
   "metadata": {},
   "outputs": [
    {
     "data": {
      "text/html": [
       "<div>\n",
       "<style scoped>\n",
       "    .dataframe tbody tr th:only-of-type {\n",
       "        vertical-align: middle;\n",
       "    }\n",
       "\n",
       "    .dataframe tbody tr th {\n",
       "        vertical-align: top;\n",
       "    }\n",
       "\n",
       "    .dataframe thead th {\n",
       "        text-align: right;\n",
       "    }\n",
       "</style>\n",
       "<table border=\"1\" class=\"dataframe\">\n",
       "  <thead>\n",
       "    <tr style=\"text-align: right;\">\n",
       "      <th></th>\n",
       "      <th>id</th>\n",
       "      <th>Содержание</th>\n",
       "      <th>Сервис</th>\n",
       "      <th>Приоритет</th>\n",
       "      <th>Статус</th>\n",
       "      <th>Функциональная группа</th>\n",
       "      <th>Крайний срок</th>\n",
       "      <th>Дата обращения</th>\n",
       "      <th>Тип обращения на момент подачи</th>\n",
       "      <th>Тип обращения итоговый</th>\n",
       "      <th>Решение</th>\n",
       "      <th>Тип переклассификации</th>\n",
       "      <th>Дата восстановления</th>\n",
       "      <th>Дата закрытия обращения</th>\n",
       "      <th>Критичность</th>\n",
       "      <th>Влияние</th>\n",
       "      <th>Система</th>\n",
       "      <th>Место</th>\n",
       "    </tr>\n",
       "  </thead>\n",
       "  <tbody>\n",
       "    <tr>\n",
       "      <th>0</th>\n",
       "      <td>14803</td>\n",
       "      <td>Заявка на предоставление и отзыв прав доступа ...</td>\n",
       "      <td>Сервис41</td>\n",
       "      <td>3-Низкий</td>\n",
       "      <td>Закрыт</td>\n",
       "      <td>ФГ13</td>\n",
       "      <td>2018-02-22 07:51</td>\n",
       "      <td>2018-02-16 13:11</td>\n",
       "      <td>Запрос</td>\n",
       "      <td>NaN</td>\n",
       "      <td>Работы по обращению выполнены</td>\n",
       "      <td>NaN</td>\n",
       "      <td>2018-02-18 04:32</td>\n",
       "      <td>2018-02-25 07:56</td>\n",
       "      <td>4-Нет</td>\n",
       "      <td>4-Нет влияния</td>\n",
       "      <td>Система43</td>\n",
       "      <td>Место38</td>\n",
       "    </tr>\n",
       "    <tr>\n",
       "      <th>1</th>\n",
       "      <td>14804</td>\n",
       "      <td>Транспортный шлюз</td>\n",
       "      <td>Сервис61</td>\n",
       "      <td>2-Средний</td>\n",
       "      <td>Закрыт</td>\n",
       "      <td>ФГ1</td>\n",
       "      <td>2018-02-21 14:36</td>\n",
       "      <td>2018-02-16 13:13</td>\n",
       "      <td>Запрос</td>\n",
       "      <td>NaN</td>\n",
       "      <td>проинф у.о.</td>\n",
       "      <td>NaN</td>\n",
       "      <td>2018-02-16 17:55</td>\n",
       "      <td>2018-02-24 07:54</td>\n",
       "      <td>1-Особая</td>\n",
       "      <td>3-Малое</td>\n",
       "      <td>Система61</td>\n",
       "      <td>К</td>\n",
       "    </tr>\n",
       "    <tr>\n",
       "      <th>2</th>\n",
       "      <td>14805</td>\n",
       "      <td>Заявка на предоставление и отзыв прав доступа ...</td>\n",
       "      <td>Сервис22</td>\n",
       "      <td>3-Низкий</td>\n",
       "      <td>Закрыт</td>\n",
       "      <td>ФГ13</td>\n",
       "      <td>2018-03-31 06:36</td>\n",
       "      <td>2018-02-16 13:13</td>\n",
       "      <td>Запрос</td>\n",
       "      <td>NaN</td>\n",
       "      <td>Работы по обращению выполнены</td>\n",
       "      <td>NaN</td>\n",
       "      <td>2018-03-15 16:09</td>\n",
       "      <td>2018-03-23 07:56</td>\n",
       "      <td>2-Повышенная</td>\n",
       "      <td>4-Нет влияния</td>\n",
       "      <td>Система13</td>\n",
       "      <td>Место25</td>\n",
       "    </tr>\n",
       "    <tr>\n",
       "      <th>3</th>\n",
       "      <td>14806</td>\n",
       "      <td>Заявка на предоставление и отзыв прав доступа ...</td>\n",
       "      <td>Сервис91</td>\n",
       "      <td>3-Низкий</td>\n",
       "      <td>Отменен</td>\n",
       "      <td>ФГ13</td>\n",
       "      <td>2018-02-21 14:29</td>\n",
       "      <td>2018-02-16 13:14</td>\n",
       "      <td>Запрос</td>\n",
       "      <td>NaN</td>\n",
       "      <td>Запрос отменён пользователем из портала самооб...</td>\n",
       "      <td>NaN</td>\n",
       "      <td>2018-02-16 13:15</td>\n",
       "      <td>NaN</td>\n",
       "      <td>2-Повышенная</td>\n",
       "      <td>4-Нет влияния</td>\n",
       "      <td>Система363</td>\n",
       "      <td>Место1</td>\n",
       "    </tr>\n",
       "    <tr>\n",
       "      <th>4</th>\n",
       "      <td>14807</td>\n",
       "      <td>Заявка на предоставление и отзыв прав доступа ...</td>\n",
       "      <td>Сервис22</td>\n",
       "      <td>3-Низкий</td>\n",
       "      <td>Закрыт</td>\n",
       "      <td>ФГ13</td>\n",
       "      <td>2018-03-30 09:36</td>\n",
       "      <td>2018-02-16 13:14</td>\n",
       "      <td>Запрос</td>\n",
       "      <td>NaN</td>\n",
       "      <td>Работы по обращению выполнены</td>\n",
       "      <td>NaN</td>\n",
       "      <td>2018-03-15 16:09</td>\n",
       "      <td>2018-03-23 07:56</td>\n",
       "      <td>2-Повышенная</td>\n",
       "      <td>4-Нет влияния</td>\n",
       "      <td>Система13</td>\n",
       "      <td>Место25</td>\n",
       "    </tr>\n",
       "  </tbody>\n",
       "</table>\n",
       "</div>"
      ],
      "text/plain": [
       "      id                                         Содержание    Сервис  \\\n",
       "0  14803  Заявка на предоставление и отзыв прав доступа ...  Сервис41   \n",
       "1  14804                                  Транспортный шлюз  Сервис61   \n",
       "2  14805  Заявка на предоставление и отзыв прав доступа ...  Сервис22   \n",
       "3  14806  Заявка на предоставление и отзыв прав доступа ...  Сервис91   \n",
       "4  14807  Заявка на предоставление и отзыв прав доступа ...  Сервис22   \n",
       "\n",
       "   Приоритет   Статус Функциональная группа      Крайний срок  \\\n",
       "0   3-Низкий   Закрыт                  ФГ13  2018-02-22 07:51   \n",
       "1  2-Средний   Закрыт                   ФГ1  2018-02-21 14:36   \n",
       "2   3-Низкий   Закрыт                  ФГ13  2018-03-31 06:36   \n",
       "3   3-Низкий  Отменен                  ФГ13  2018-02-21 14:29   \n",
       "4   3-Низкий   Закрыт                  ФГ13  2018-03-30 09:36   \n",
       "\n",
       "     Дата обращения Тип обращения на момент подачи  Тип обращения итоговый  \\\n",
       "0  2018-02-16 13:11                         Запрос                     NaN   \n",
       "1  2018-02-16 13:13                         Запрос                     NaN   \n",
       "2  2018-02-16 13:13                         Запрос                     NaN   \n",
       "3  2018-02-16 13:14                         Запрос                     NaN   \n",
       "4  2018-02-16 13:14                         Запрос                     NaN   \n",
       "\n",
       "                                Решение               Тип переклассификации  \\\n",
       "0                      Работы по обращению выполнены                    NaN   \n",
       "1                                        проинф у.о.                    NaN   \n",
       "2                      Работы по обращению выполнены                    NaN   \n",
       "3  Запрос отменён пользователем из портала самооб...                    NaN   \n",
       "4                      Работы по обращению выполнены                    NaN   \n",
       "\n",
       "  Дата восстановления Дата закрытия обращения   Критичность        Влияние  \\\n",
       "0    2018-02-18 04:32        2018-02-25 07:56         4-Нет  4-Нет влияния   \n",
       "1    2018-02-16 17:55        2018-02-24 07:54      1-Особая        3-Малое   \n",
       "2    2018-03-15 16:09        2018-03-23 07:56  2-Повышенная  4-Нет влияния   \n",
       "3    2018-02-16 13:15                     NaN  2-Повышенная  4-Нет влияния   \n",
       "4    2018-03-15 16:09        2018-03-23 07:56  2-Повышенная  4-Нет влияния   \n",
       "\n",
       "      Система    Место  \n",
       "0   Система43  Место38  \n",
       "1   Система61        К  \n",
       "2   Система13  Место25  \n",
       "3  Система363   Место1  \n",
       "4   Система13  Место25  "
      ]
     },
     "execution_count": 6,
     "metadata": {},
     "output_type": "execute_result"
    }
   ],
   "source": [
    "test.head()"
   ]
  },
  {
   "cell_type": "code",
   "execution_count": 7,
   "id": "c8826202",
   "metadata": {},
   "outputs": [
    {
     "data": {
      "text/plain": [
       "((14803, 17), (6344, 18))"
      ]
     },
     "execution_count": 7,
     "metadata": {},
     "output_type": "execute_result"
    }
   ],
   "source": [
    "train.shape, test.shape"
   ]
  },
  {
   "cell_type": "code",
   "execution_count": 8,
   "id": "53f07b38",
   "metadata": {},
   "outputs": [],
   "source": [
    "train = train.drop_duplicates()"
   ]
  },
  {
   "cell_type": "code",
   "execution_count": 9,
   "id": "fc193345",
   "metadata": {},
   "outputs": [
    {
     "data": {
      "text/plain": [
       "((13284, 17), (6344, 18))"
      ]
     },
     "execution_count": 9,
     "metadata": {},
     "output_type": "execute_result"
    }
   ],
   "source": [
    "train.shape, test.shape"
   ]
  },
  {
   "cell_type": "code",
   "execution_count": 10,
   "id": "8f8aef49",
   "metadata": {},
   "outputs": [],
   "source": [
    "train = renaming(train)\n",
    "test = renaming(test)"
   ]
  },
  {
   "cell_type": "code",
   "execution_count": 11,
   "id": "5c1b8fe1",
   "metadata": {},
   "outputs": [],
   "source": [
    "train = change_date_types(train)\n",
    "test = change_date_types(test)"
   ]
  },
  {
   "cell_type": "code",
   "execution_count": 12,
   "id": "a3315c57",
   "metadata": {},
   "outputs": [
    {
     "name": "stdout",
     "output_type": "stream",
     "text": [
      "<class 'pandas.core.frame.DataFrame'>\n",
      "Int64Index: 13284 entries, 0 to 14802\n",
      "Data columns (total 17 columns):\n",
      " #   Column                          Non-Null Count  Dtype         \n",
      "---  ------                          --------------  -----         \n",
      " 0   Содержание                      13283 non-null  object        \n",
      " 1   Сервис                          13284 non-null  object        \n",
      " 2   Приоритет                       13284 non-null  object        \n",
      " 3   Статус                          13284 non-null  object        \n",
      " 4   Функциональная группа           13284 non-null  object        \n",
      " 5   Крайний срок                    13284 non-null  datetime64[ns]\n",
      " 6   Дата обращения                  13284 non-null  datetime64[ns]\n",
      " 7   Тип обращения на момент подачи  13284 non-null  object        \n",
      " 8   Тип обращения итоговый          13284 non-null  object        \n",
      " 9   Решение                         13284 non-null  object        \n",
      " 10  Тип переклассификации           13284 non-null  int64         \n",
      " 11  Дата восстановления             13235 non-null  datetime64[ns]\n",
      " 12  Дата закрытия обращения         12930 non-null  datetime64[ns]\n",
      " 13  Критичность                     13284 non-null  object        \n",
      " 14  Влияние                         13284 non-null  object        \n",
      " 15  Система                         13284 non-null  object        \n",
      " 16  Место                           13284 non-null  object        \n",
      "dtypes: datetime64[ns](4), int64(1), object(12)\n",
      "memory usage: 1.8+ MB\n"
     ]
    }
   ],
   "source": [
    "train.info() "
   ]
  },
  {
   "cell_type": "code",
   "execution_count": 13,
   "id": "c595d621",
   "metadata": {},
   "outputs": [
    {
     "name": "stdout",
     "output_type": "stream",
     "text": [
      "<class 'pandas.core.frame.DataFrame'>\n",
      "RangeIndex: 6344 entries, 0 to 6343\n",
      "Data columns (total 18 columns):\n",
      " #   Column                          Non-Null Count  Dtype         \n",
      "---  ------                          --------------  -----         \n",
      " 0   id                              6344 non-null   int64         \n",
      " 1   Содержание                      6344 non-null   object        \n",
      " 2   Сервис                          6344 non-null   object        \n",
      " 3   Приоритет                       6344 non-null   object        \n",
      " 4   Статус                          6344 non-null   object        \n",
      " 5   Функциональная группа           6344 non-null   object        \n",
      " 6   Крайний срок                    6344 non-null   datetime64[ns]\n",
      " 7   Дата обращения                  6344 non-null   datetime64[ns]\n",
      " 8   Тип обращения на момент подачи  6344 non-null   object        \n",
      " 9   Тип обращения итоговый          0 non-null      float64       \n",
      " 10  Решение                         6344 non-null   object        \n",
      " 11  Тип переклассификации           0 non-null      float64       \n",
      " 12  Дата восстановления             6329 non-null   datetime64[ns]\n",
      " 13  Дата закрытия обращения         6206 non-null   datetime64[ns]\n",
      " 14  Критичность                     6344 non-null   object        \n",
      " 15  Влияние                         6344 non-null   object        \n",
      " 16  Система                         6344 non-null   object        \n",
      " 17  Место                           6344 non-null   object        \n",
      "dtypes: datetime64[ns](4), float64(2), int64(1), object(11)\n",
      "memory usage: 892.2+ KB\n"
     ]
    }
   ],
   "source": [
    "test.info()"
   ]
  },
  {
   "cell_type": "markdown",
   "id": "5fefbbd7",
   "metadata": {},
   "source": [
    "Видим пропущенные значения -- посмотрим, от чего они, обработаем позже"
   ]
  },
  {
   "cell_type": "code",
   "execution_count": 14,
   "id": "68b6b717",
   "metadata": {},
   "outputs": [
    {
     "data": {
      "text/plain": [
       "Отменен    49\n",
       "Name: Статус, dtype: int64"
      ]
     },
     "execution_count": 14,
     "metadata": {},
     "output_type": "execute_result"
    }
   ],
   "source": [
    "train[train['Дата восстановления'].isnull()]['Статус'].value_counts()"
   ]
  },
  {
   "cell_type": "code",
   "execution_count": 15,
   "id": "73f6e948",
   "metadata": {},
   "outputs": [
    {
     "data": {
      "text/plain": [
       "Отменен    15\n",
       "Name: Статус, dtype: int64"
      ]
     },
     "execution_count": 15,
     "metadata": {},
     "output_type": "execute_result"
    }
   ],
   "source": [
    "# заменим null в Дате восстановления на дату закрытия обращения, так как это все отмененные заявки \n",
    "test[test['Дата восстановления'].isnull()]['Статус'].value_counts()"
   ]
  },
  {
   "cell_type": "code",
   "execution_count": 16,
   "id": "29272b57",
   "metadata": {},
   "outputs": [
    {
     "data": {
      "text/plain": [
       "Отменен    354\n",
       "Name: Статус, dtype: int64"
      ]
     },
     "execution_count": 16,
     "metadata": {},
     "output_type": "execute_result"
    }
   ],
   "source": [
    "train[train['Дата закрытия обращения'].isnull()]['Статус'].value_counts()"
   ]
  },
  {
   "cell_type": "code",
   "execution_count": 17,
   "id": "efee633d",
   "metadata": {},
   "outputs": [
    {
     "data": {
      "text/plain": [
       "Отменен    138\n",
       "Name: Статус, dtype: int64"
      ]
     },
     "execution_count": 17,
     "metadata": {},
     "output_type": "execute_result"
    }
   ],
   "source": [
    "# заменим на Дату восстановленния\n",
    "test[test['Дата закрытия обращения'].isnull()]['Статус'].value_counts()"
   ]
  },
  {
   "cell_type": "code",
   "execution_count": 18,
   "id": "b3bd7623",
   "metadata": {},
   "outputs": [
    {
     "data": {
      "text/html": [
       "<div>\n",
       "<style scoped>\n",
       "    .dataframe tbody tr th:only-of-type {\n",
       "        vertical-align: middle;\n",
       "    }\n",
       "\n",
       "    .dataframe tbody tr th {\n",
       "        vertical-align: top;\n",
       "    }\n",
       "\n",
       "    .dataframe thead th {\n",
       "        text-align: right;\n",
       "    }\n",
       "</style>\n",
       "<table border=\"1\" class=\"dataframe\">\n",
       "  <thead>\n",
       "    <tr style=\"text-align: right;\">\n",
       "      <th></th>\n",
       "      <th>Содержание</th>\n",
       "      <th>Сервис</th>\n",
       "      <th>Приоритет</th>\n",
       "      <th>Статус</th>\n",
       "      <th>Функциональная группа</th>\n",
       "      <th>Крайний срок</th>\n",
       "      <th>Дата обращения</th>\n",
       "      <th>Тип обращения на момент подачи</th>\n",
       "      <th>Тип обращения итоговый</th>\n",
       "      <th>Решение</th>\n",
       "      <th>Тип переклассификации</th>\n",
       "      <th>Дата восстановления</th>\n",
       "      <th>Дата закрытия обращения</th>\n",
       "      <th>Критичность</th>\n",
       "      <th>Влияние</th>\n",
       "      <th>Система</th>\n",
       "      <th>Место</th>\n",
       "    </tr>\n",
       "  </thead>\n",
       "  <tbody>\n",
       "    <tr>\n",
       "      <th>4222</th>\n",
       "      <td>NaN</td>\n",
       "      <td>Сервис93</td>\n",
       "      <td>3-Низкий</td>\n",
       "      <td>Отменен</td>\n",
       "      <td>ФГ626</td>\n",
       "      <td>2018-02-02 07:06:00</td>\n",
       "      <td>2018-02-01 08:06:00</td>\n",
       "      <td>Инцидент</td>\n",
       "      <td>Инцидент</td>\n",
       "      <td>Зарегистрирован ошибочно.</td>\n",
       "      <td>0</td>\n",
       "      <td>NaT</td>\n",
       "      <td>2018-02-01 08:09:00</td>\n",
       "      <td>2-Повышенная</td>\n",
       "      <td>3-Малое</td>\n",
       "      <td>Система92</td>\n",
       "      <td>Место277</td>\n",
       "    </tr>\n",
       "  </tbody>\n",
       "</table>\n",
       "</div>"
      ],
      "text/plain": [
       "     Содержание    Сервис Приоритет   Статус Функциональная группа  \\\n",
       "4222        NaN  Сервис93  3-Низкий  Отменен                 ФГ626   \n",
       "\n",
       "            Крайний срок      Дата обращения Тип обращения на момент подачи  \\\n",
       "4222 2018-02-02 07:06:00 2018-02-01 08:06:00                       Инцидент   \n",
       "\n",
       "     Тип обращения итоговый                    Решение  Тип переклассификации  \\\n",
       "4222               Инцидент  Зарегистрирован ошибочно.                      0   \n",
       "\n",
       "     Дата восстановления Дата закрытия обращения   Критичность  Влияние  \\\n",
       "4222                 NaT     2018-02-01 08:09:00  2-Повышенная  3-Малое   \n",
       "\n",
       "        Система     Место  \n",
       "4222  Система92  Место277  "
      ]
     },
     "execution_count": 18,
     "metadata": {},
     "output_type": "execute_result"
    }
   ],
   "source": [
    "# пока не трогаем\n",
    "train[train['Содержание'].isnull()]"
   ]
  },
  {
   "cell_type": "markdown",
   "id": "27734dda",
   "metadata": {},
   "source": [
    "Посмотрим на уникальные значения признаков для теста и трейна"
   ]
  },
  {
   "cell_type": "code",
   "execution_count": 19,
   "id": "515df332",
   "metadata": {},
   "outputs": [
    {
     "data": {
      "text/plain": [
       "(1466, 738)"
      ]
     },
     "execution_count": 19,
     "metadata": {},
     "output_type": "execute_result"
    }
   ],
   "source": [
    "len(train['Содержание'].unique()), len(test['Содержание'].unique())"
   ]
  },
  {
   "cell_type": "code",
   "execution_count": 20,
   "id": "223d8d9e",
   "metadata": {},
   "outputs": [
    {
     "name": "stdout",
     "output_type": "stream",
     "text": [
      "Количество уникальных значений столбца Сервис в train: 153\n",
      "Количество уникальных значений столбца Сервис в test: 120\n",
      "Количество уникальных значений столбца Сервис в пересечении train и test: 96 \n",
      "\n",
      "Количество уникальных значений столбца Приоритет в train: 4\n",
      "Количество уникальных значений столбца Приоритет в test: 3\n",
      "Количество уникальных значений столбца Приоритет в пересечении train и test: 3 \n",
      "\n",
      "Количество уникальных значений столбца Статус в train: 2\n",
      "Количество уникальных значений столбца Статус в test: 2\n",
      "Количество уникальных значений столбца Статус в пересечении train и test: 2 \n",
      "\n",
      "Количество уникальных значений столбца Функциональная группа в train: 555\n",
      "Количество уникальных значений столбца Функциональная группа в test: 361\n",
      "Количество уникальных значений столбца Функциональная группа в пересечении train и test: 322 \n",
      "\n",
      "Количество уникальных значений столбца Тип обращения на момент подачи в train: 2\n",
      "Количество уникальных значений столбца Тип обращения на момент подачи в test: 2\n",
      "Количество уникальных значений столбца Тип обращения на момент подачи в пересечении train и test: 2 \n",
      "\n",
      "Количество уникальных значений столбца Тип обращения итоговый в train: 2\n",
      "Количество уникальных значений столбца Тип обращения итоговый в test: 1\n",
      "Количество уникальных значений столбца Тип обращения итоговый в пересечении train и test: 0 \n",
      "\n",
      "Количество уникальных значений столбца Тип переклассификации в train: 3\n",
      "Количество уникальных значений столбца Тип переклассификации в test: 1\n",
      "Количество уникальных значений столбца Тип переклассификации в пересечении train и test: 0 \n",
      "\n",
      "Количество уникальных значений столбца Критичность в train: 4\n",
      "Количество уникальных значений столбца Критичность в test: 4\n",
      "Количество уникальных значений столбца Критичность в пересечении train и test: 4 \n",
      "\n",
      "Количество уникальных значений столбца Влияние в train: 4\n",
      "Количество уникальных значений столбца Влияние в test: 4\n",
      "Количество уникальных значений столбца Влияние в пересечении train и test: 4 \n",
      "\n",
      "Количество уникальных значений столбца Система в train: 201\n",
      "Количество уникальных значений столбца Система в test: 151\n",
      "Количество уникальных значений столбца Система в пересечении train и test: 119 \n",
      "\n",
      "Количество уникальных значений столбца Место в train: 314\n",
      "Количество уникальных значений столбца Место в test: 274\n",
      "Количество уникальных значений столбца Место в пересечении train и test: 246 \n",
      "\n"
     ]
    }
   ],
   "source": [
    "columns_to_look = ['Сервис', 'Приоритет', 'Статус', 'Функциональная группа', 'Тип обращения на момент подачи', 'Тип обращения итоговый',\n",
    "                   'Тип переклассификации', 'Критичность', 'Влияние', 'Система', 'Место']\n",
    "\n",
    "for column in columns_to_look:\n",
    "    look_on_column_values(train, test, column)"
   ]
  },
  {
   "cell_type": "markdown",
   "id": "449c5cd9",
   "metadata": {},
   "source": [
    "Смотрим, как соотносятся `('Тип обращения на момент подачи', 'Тип обращения итоговый')` с `'Тип переклассификации'`"
   ]
  },
  {
   "cell_type": "code",
   "execution_count": 21,
   "id": "048b212b",
   "metadata": {},
   "outputs": [
    {
     "data": {
      "text/html": [
       "<div>\n",
       "<style scoped>\n",
       "    .dataframe tbody tr th:only-of-type {\n",
       "        vertical-align: middle;\n",
       "    }\n",
       "\n",
       "    .dataframe tbody tr th {\n",
       "        vertical-align: top;\n",
       "    }\n",
       "\n",
       "    .dataframe thead th {\n",
       "        text-align: right;\n",
       "    }\n",
       "</style>\n",
       "<table border=\"1\" class=\"dataframe\">\n",
       "  <thead>\n",
       "    <tr style=\"text-align: right;\">\n",
       "      <th></th>\n",
       "      <th>Тип обращения на момент подачи</th>\n",
       "      <th>Тип обращения итоговый</th>\n",
       "      <th>Тип переклассификации</th>\n",
       "    </tr>\n",
       "  </thead>\n",
       "  <tbody>\n",
       "    <tr>\n",
       "      <th>0</th>\n",
       "      <td>Запрос</td>\n",
       "      <td>Запрос</td>\n",
       "      <td>0</td>\n",
       "    </tr>\n",
       "    <tr>\n",
       "      <th>3</th>\n",
       "      <td>Инцидент</td>\n",
       "      <td>Инцидент</td>\n",
       "      <td>0</td>\n",
       "    </tr>\n",
       "    <tr>\n",
       "      <th>917</th>\n",
       "      <td>Инцидент</td>\n",
       "      <td>Запрос</td>\n",
       "      <td>2</td>\n",
       "    </tr>\n",
       "    <tr>\n",
       "      <th>927</th>\n",
       "      <td>Запрос</td>\n",
       "      <td>Инцидент</td>\n",
       "      <td>1</td>\n",
       "    </tr>\n",
       "  </tbody>\n",
       "</table>\n",
       "</div>"
      ],
      "text/plain": [
       "    Тип обращения на момент подачи Тип обращения итоговый  \\\n",
       "0                           Запрос                 Запрос   \n",
       "3                         Инцидент               Инцидент   \n",
       "917                       Инцидент                 Запрос   \n",
       "927                         Запрос               Инцидент   \n",
       "\n",
       "     Тип переклассификации  \n",
       "0                        0  \n",
       "3                        0  \n",
       "917                      2  \n",
       "927                      1  "
      ]
     },
     "execution_count": 21,
     "metadata": {},
     "output_type": "execute_result"
    }
   ],
   "source": [
    "train[['Тип обращения на момент подачи', 'Тип обращения итоговый', 'Тип переклассификации']].drop_duplicates()"
   ]
  },
  {
   "cell_type": "markdown",
   "id": "3a762854",
   "metadata": {},
   "source": [
    "Смотрим на баланс классов"
   ]
  },
  {
   "cell_type": "code",
   "execution_count": 22,
   "id": "ef2d6e52",
   "metadata": {},
   "outputs": [
    {
     "data": {
      "text/plain": [
       "0    12953\n",
       "2      196\n",
       "1      135\n",
       "Name: Тип переклассификации, dtype: int64"
      ]
     },
     "execution_count": 22,
     "metadata": {},
     "output_type": "execute_result"
    }
   ],
   "source": [
    "train['Тип переклассификации'].value_counts()"
   ]
  },
  {
   "cell_type": "markdown",
   "id": "36c1b3a3",
   "metadata": {},
   "source": [
    "Смотрим на значения признаков (у которых их не так много)"
   ]
  },
  {
   "cell_type": "code",
   "execution_count": 23,
   "id": "56d4e067",
   "metadata": {},
   "outputs": [
    {
     "name": "stdout",
     "output_type": "stream",
     "text": [
      "Приоритет\n"
     ]
    },
    {
     "data": {
      "text/plain": [
       "3-Низкий         8922\n",
       "2-Средний        4348\n",
       "1-Высокий          11\n",
       "0-Критический       3\n",
       "Name: Приоритет, dtype: int64"
      ]
     },
     "metadata": {},
     "output_type": "display_data"
    },
    {
     "data": {
      "text/plain": [
       "3-Низкий     4535\n",
       "2-Средний    1805\n",
       "1-Высокий       4\n",
       "Name: Приоритет, dtype: int64"
      ]
     },
     "metadata": {},
     "output_type": "display_data"
    },
    {
     "name": "stdout",
     "output_type": "stream",
     "text": [
      "Статус\n"
     ]
    },
    {
     "data": {
      "text/plain": [
       "Закрыт     12877\n",
       "Отменен      407\n",
       "Name: Статус, dtype: int64"
      ]
     },
     "metadata": {},
     "output_type": "display_data"
    },
    {
     "data": {
      "text/plain": [
       "Закрыт     6189\n",
       "Отменен     155\n",
       "Name: Статус, dtype: int64"
      ]
     },
     "metadata": {},
     "output_type": "display_data"
    },
    {
     "name": "stdout",
     "output_type": "stream",
     "text": [
      "Тип обращения на момент подачи\n"
     ]
    },
    {
     "data": {
      "text/plain": [
       "Запрос      12837\n",
       "Инцидент      447\n",
       "Name: Тип обращения на момент подачи, dtype: int64"
      ]
     },
     "metadata": {},
     "output_type": "display_data"
    },
    {
     "data": {
      "text/plain": [
       "Запрос      5914\n",
       "Инцидент     430\n",
       "Name: Тип обращения на момент подачи, dtype: int64"
      ]
     },
     "metadata": {},
     "output_type": "display_data"
    },
    {
     "name": "stdout",
     "output_type": "stream",
     "text": [
      "Критичность\n"
     ]
    },
    {
     "data": {
      "text/plain": [
       "4-Нет           5975\n",
       "1-Особая        4370\n",
       "2-Повышенная    2064\n",
       "3-Базовая        875\n",
       "Name: Критичность, dtype: int64"
      ]
     },
     "metadata": {},
     "output_type": "display_data"
    },
    {
     "data": {
      "text/plain": [
       "4-Нет           2555\n",
       "1-Особая        1813\n",
       "2-Повышенная    1496\n",
       "3-Базовая        480\n",
       "Name: Критичность, dtype: int64"
      ]
     },
     "metadata": {},
     "output_type": "display_data"
    },
    {
     "name": "stdout",
     "output_type": "stream",
     "text": [
      "Влияние\n"
     ]
    },
    {
     "data": {
      "text/plain": [
       "4-Нет влияния        8465\n",
       "3-Малое              4761\n",
       "2-Значительное         53\n",
       "1-Всеохватывающее       5\n",
       "Name: Влияние, dtype: int64"
      ]
     },
     "metadata": {},
     "output_type": "display_data"
    },
    {
     "data": {
      "text/plain": [
       "4-Нет влияния        4034\n",
       "3-Малое              2279\n",
       "2-Значительное         29\n",
       "1-Всеохватывающее       2\n",
       "Name: Влияние, dtype: int64"
      ]
     },
     "metadata": {},
     "output_type": "display_data"
    }
   ],
   "source": [
    "columns_not_variable = ['Приоритет', 'Статус', 'Тип обращения на момент подачи', 'Критичность', 'Влияние']\n",
    "\n",
    "for column in columns_not_variable:\n",
    "    print(column)\n",
    "    display(train[column].value_counts())\n",
    "    display(test[column].value_counts())"
   ]
  },
  {
   "cell_type": "markdown",
   "id": "6d2ccd17",
   "metadata": {},
   "source": [
    "Посмотрим на то же самое, но на картинках"
   ]
  },
  {
   "cell_type": "code",
   "execution_count": 24,
   "id": "f14090f5",
   "metadata": {},
   "outputs": [
    {
     "name": "stderr",
     "output_type": "stream",
     "text": [
      "/Users/elena/anaconda3/lib/python3.8/site-packages/seaborn/_decorators.py:36: FutureWarning: Pass the following variable as a keyword arg: x. From version 0.12, the only valid positional argument will be `data`, and passing other arguments without an explicit keyword will result in an error or misinterpretation.\n",
      "  warnings.warn(\n"
     ]
    },
    {
     "data": {
      "image/png": "[encoded data removed]",
      "text/plain": [
       "<Figure size 720x360 with 1 Axes>"
      ]
     },
     "metadata": {
      "needs_background": "light"
     },
     "output_type": "display_data"
    }
   ],
   "source": [
    "plt.figure(figsize=(10,5))\n",
    "\n",
    "ax = sns.countplot(train['Приоритет'].sort_values())\n",
    "\n",
    "abs_values = train['Приоритет'].value_counts().sort_index().values\n",
    "ax.bar_label(container=ax.containers[0], labels=abs_values, fontsize=14)\n",
    "\n",
    "plt.xlabel('Приоритет', fontsize=14)\n",
    "plt.ylabel('Количество обращений', fontsize=14)\n",
    "plt.title('Распределение количества обращений по приоритетам на обучающих данных', fontsize=16)\n",
    "\n",
    "plt.show()"
   ]
  },
  {
   "cell_type": "code",
   "execution_count": 25,
   "id": "7d0ba8eb",
   "metadata": {},
   "outputs": [
    {
     "name": "stderr",
     "output_type": "stream",
     "text": [
      "/Users/elena/anaconda3/lib/python3.8/site-packages/seaborn/_decorators.py:36: FutureWarning: Pass the following variable as a keyword arg: x. From version 0.12, the only valid positional argument will be `data`, and passing other arguments without an explicit keyword will result in an error or misinterpretation.\n",
      "  warnings.warn(\n"
     ]
    },
    {
     "data": {
      "image/png": "[encoded data removed]",
      "text/plain": [
       "<Figure size 720x360 with 1 Axes>"
      ]
     },
     "metadata": {
      "needs_background": "light"
     },
     "output_type": "display_data"
    }
   ],
   "source": [
    "plt.figure(figsize=(10,5))\n",
    "\n",
    "ax = sns.countplot(train['Статус'].sort_values())\n",
    "\n",
    "abs_values = train['Статус'].value_counts().sort_index().values\n",
    "ax.bar_label(container=ax.containers[0], labels=abs_values, fontsize=14)\n",
    "\n",
    "plt.xlabel('Статус', fontsize=14)\n",
    "plt.ylabel('Количество обращений', fontsize=14)\n",
    "plt.title('Распределение количества обращений по статусам на обучающих данных', fontsize=16)\n",
    "\n",
    "plt.show()"
   ]
  },
  {
   "cell_type": "code",
   "execution_count": 26,
   "id": "2a1c93cb",
   "metadata": {},
   "outputs": [
    {
     "name": "stderr",
     "output_type": "stream",
     "text": [
      "/Users/elena/anaconda3/lib/python3.8/site-packages/seaborn/_decorators.py:36: FutureWarning: Pass the following variable as a keyword arg: x. From version 0.12, the only valid positional argument will be `data`, and passing other arguments without an explicit keyword will result in an error or misinterpretation.\n",
      "  warnings.warn(\n"
     ]
    },
    {
     "data": {
      "image/png": "[encoded data removed]",
      "text/plain": [
       "<Figure size 720x360 with 1 Axes>"
      ]
     },
     "metadata": {
      "needs_background": "light"
     },
     "output_type": "display_data"
    }
   ],
   "source": [
    "plt.figure(figsize=(10,5))\n",
    "\n",
    "ax = sns.countplot(train['Тип обращения на момент подачи'].sort_values())\n",
    "\n",
    "abs_values = train['Тип обращения на момент подачи'].value_counts().sort_index().values\n",
    "ax.bar_label(container=ax.containers[0], labels=abs_values, fontsize=14)\n",
    "\n",
    "plt.xlabel('Тип обращения на момент подачи', fontsize=14)\n",
    "plt.ylabel('Количество обращений', fontsize=14)\n",
    "plt.title('Распределение количества обращений по типам обращения на момент подачи на обучающих данных', fontsize=16)\n",
    "\n",
    "plt.show()"
   ]
  },
  {
   "cell_type": "code",
   "execution_count": 27,
   "id": "e7b49e78",
   "metadata": {},
   "outputs": [
    {
     "name": "stderr",
     "output_type": "stream",
     "text": [
      "/Users/elena/anaconda3/lib/python3.8/site-packages/seaborn/_decorators.py:36: FutureWarning: Pass the following variable as a keyword arg: x. From version 0.12, the only valid positional argument will be `data`, and passing other arguments without an explicit keyword will result in an error or misinterpretation.\n",
      "  warnings.warn(\n"
     ]
    },
    {
     "data": {
      "image/png": "[encoded data removed]",
      "text/plain": [
       "<Figure size 720x360 with 1 Axes>"
      ]
     },
     "metadata": {
      "needs_background": "light"
     },
     "output_type": "display_data"
    }
   ],
   "source": [
    "plt.figure(figsize=(10,5))\n",
    "\n",
    "ax = sns.countplot(train['Критичность'].sort_values())\n",
    "\n",
    "abs_values = train['Критичность'].value_counts().sort_index().values\n",
    "ax.bar_label(container=ax.containers[0], labels=abs_values, fontsize=14)\n",
    "\n",
    "plt.xlabel('Критичность', fontsize=14)\n",
    "plt.ylabel('Количество обращений', fontsize=14)\n",
    "plt.title('Распределение количества обращений по критичности на момент подачи на обучающих данных', fontsize=16)\n",
    "\n",
    "plt.show()"
   ]
  },
  {
   "cell_type": "code",
   "execution_count": 28,
   "id": "888d9114",
   "metadata": {},
   "outputs": [
    {
     "name": "stderr",
     "output_type": "stream",
     "text": [
      "/Users/elena/anaconda3/lib/python3.8/site-packages/seaborn/_decorators.py:36: FutureWarning: Pass the following variable as a keyword arg: x. From version 0.12, the only valid positional argument will be `data`, and passing other arguments without an explicit keyword will result in an error or misinterpretation.\n",
      "  warnings.warn(\n"
     ]
    },
    {
     "data": {
      "image/png": "[encoded data removed]",
      "text/plain": [
       "<Figure size 720x360 with 1 Axes>"
      ]
     },
     "metadata": {
      "needs_background": "light"
     },
     "output_type": "display_data"
    }
   ],
   "source": [
    "plt.figure(figsize=(10,5))\n",
    "\n",
    "ax = sns.countplot(train['Влияние'].sort_values())\n",
    "\n",
    "abs_values = train['Влияние'].value_counts().sort_index().values\n",
    "ax.bar_label(container=ax.containers[0], labels=abs_values, fontsize=14)\n",
    "\n",
    "plt.xlabel('Влияние', fontsize=14)\n",
    "plt.ylabel('Количество обращений', fontsize=14)\n",
    "plt.title('Распределение количества обращений по влиянию на обучающих данных', fontsize=16)\n",
    "\n",
    "plt.show()"
   ]
  },
  {
   "cell_type": "markdown",
   "id": "c9cc1974",
   "metadata": {},
   "source": [
    "Посмотрим на данные с датами"
   ]
  },
  {
   "cell_type": "code",
   "execution_count": 29,
   "id": "3867f4db",
   "metadata": {},
   "outputs": [
    {
     "data": {
      "text/plain": [
       "(Timestamp('2018-01-19 09:27:00'), Timestamp('2018-02-16 13:10:00'))"
      ]
     },
     "execution_count": 29,
     "metadata": {},
     "output_type": "execute_result"
    }
   ],
   "source": [
    "train['Дата обращения'].min(), train['Дата обращения'].max()"
   ]
  },
  {
   "cell_type": "code",
   "execution_count": 30,
   "id": "1d7e0003",
   "metadata": {},
   "outputs": [
    {
     "data": {
      "text/plain": [
       "(Timestamp('2017-03-08 11:36:00'), Timestamp('2018-08-26 07:12:00'))"
      ]
     },
     "execution_count": 30,
     "metadata": {},
     "output_type": "execute_result"
    }
   ],
   "source": [
    "train['Крайний срок'].min(), train['Крайний срок'].max()"
   ]
  },
  {
   "cell_type": "code",
   "execution_count": 31,
   "id": "739eb669",
   "metadata": {},
   "outputs": [
    {
     "data": {
      "text/plain": [
       "(Timestamp('2018-01-25 22:47:00'), Timestamp('2018-06-08 13:03:00'))"
      ]
     },
     "execution_count": 31,
     "metadata": {},
     "output_type": "execute_result"
    }
   ],
   "source": [
    "train['Дата восстановления'].min(), train['Дата восстановления'].max()"
   ]
  },
  {
   "cell_type": "code",
   "execution_count": 32,
   "id": "cf5d419b",
   "metadata": {},
   "outputs": [
    {
     "data": {
      "text/plain": [
       "(Timestamp('2018-01-19 09:41:00'), Timestamp('2018-06-09 08:18:00'))"
      ]
     },
     "execution_count": 32,
     "metadata": {},
     "output_type": "execute_result"
    }
   ],
   "source": [
    "train['Дата закрытия обращения'].min(), train['Дата закрытия обращения'].max()"
   ]
  },
  {
   "cell_type": "code",
   "execution_count": 33,
   "id": "45afc287",
   "metadata": {},
   "outputs": [
    {
     "data": {
      "text/plain": [
       "(Timestamp('2018-02-16 13:11:00'), Timestamp('2018-02-25 21:35:00'))"
      ]
     },
     "execution_count": 33,
     "metadata": {},
     "output_type": "execute_result"
    }
   ],
   "source": [
    "test['Дата обращения'].min(), test['Дата обращения'].max()"
   ]
  },
  {
   "cell_type": "code",
   "execution_count": 34,
   "id": "8f3352c0",
   "metadata": {},
   "outputs": [
    {
     "data": {
      "text/plain": [
       "(Timestamp('2017-03-10 17:36:00'), Timestamp('2019-02-10 12:55:00'))"
      ]
     },
     "execution_count": 34,
     "metadata": {},
     "output_type": "execute_result"
    }
   ],
   "source": [
    "test['Крайний срок'].min(), test['Крайний срок'].max()"
   ]
  },
  {
   "cell_type": "code",
   "execution_count": 35,
   "id": "055d0399",
   "metadata": {},
   "outputs": [
    {
     "data": {
      "text/plain": [
       "(Timestamp('2018-02-16 13:15:00'), Timestamp('2018-05-27 10:41:00'))"
      ]
     },
     "execution_count": 35,
     "metadata": {},
     "output_type": "execute_result"
    }
   ],
   "source": [
    "test['Дата восстановления'].min(), test['Дата восстановления'].max()"
   ]
  },
  {
   "cell_type": "code",
   "execution_count": 36,
   "id": "144b1348",
   "metadata": {},
   "outputs": [
    {
     "data": {
      "text/plain": [
       "(Timestamp('2018-02-16 13:42:00'), Timestamp('2018-05-13 09:47:00'))"
      ]
     },
     "execution_count": 36,
     "metadata": {},
     "output_type": "execute_result"
    }
   ],
   "source": [
    "test['Дата закрытия обращения'].min(), test['Дата закрытия обращения'].max()"
   ]
  },
  {
   "cell_type": "markdown",
   "id": "e421c116",
   "metadata": {},
   "source": [
    "Есть данные, где `Крайний срок` раньше, чем `Дата обращения`"
   ]
  },
  {
   "cell_type": "code",
   "execution_count": 37,
   "id": "5b44fd25",
   "metadata": {},
   "outputs": [
    {
     "data": {
      "text/html": [
       "<div>\n",
       "<style scoped>\n",
       "    .dataframe tbody tr th:only-of-type {\n",
       "        vertical-align: middle;\n",
       "    }\n",
       "\n",
       "    .dataframe tbody tr th {\n",
       "        vertical-align: top;\n",
       "    }\n",
       "\n",
       "    .dataframe thead th {\n",
       "        text-align: right;\n",
       "    }\n",
       "</style>\n",
       "<table border=\"1\" class=\"dataframe\">\n",
       "  <thead>\n",
       "    <tr style=\"text-align: right;\">\n",
       "      <th></th>\n",
       "      <th>Содержание</th>\n",
       "      <th>Сервис</th>\n",
       "      <th>Приоритет</th>\n",
       "      <th>Статус</th>\n",
       "      <th>Функциональная группа</th>\n",
       "      <th>Крайний срок</th>\n",
       "      <th>Дата обращения</th>\n",
       "      <th>Тип обращения на момент подачи</th>\n",
       "      <th>Тип обращения итоговый</th>\n",
       "      <th>Решение</th>\n",
       "      <th>Тип переклассификации</th>\n",
       "      <th>Дата восстановления</th>\n",
       "      <th>Дата закрытия обращения</th>\n",
       "      <th>Критичность</th>\n",
       "      <th>Влияние</th>\n",
       "      <th>Система</th>\n",
       "      <th>Место</th>\n",
       "    </tr>\n",
       "  </thead>\n",
       "  <tbody>\n",
       "    <tr>\n",
       "      <th>4119</th>\n",
       "      <td>36 заявка</td>\n",
       "      <td>АРМ</td>\n",
       "      <td>3-Низкий</td>\n",
       "      <td>Отменен</td>\n",
       "      <td>ФГ250</td>\n",
       "      <td>2017-03-08 11:36:00</td>\n",
       "      <td>2018-02-01 06:46:00</td>\n",
       "      <td>Запрос</td>\n",
       "      <td>Запрос</td>\n",
       "      <td>Запрос отменён пользователем из портала самооб...</td>\n",
       "      <td>0</td>\n",
       "      <td>2018-02-02 09:37:00</td>\n",
       "      <td>NaT</td>\n",
       "      <td>4-Нет</td>\n",
       "      <td>3-Малое</td>\n",
       "      <td>База</td>\n",
       "      <td>Место163</td>\n",
       "    </tr>\n",
       "  </tbody>\n",
       "</table>\n",
       "</div>"
      ],
      "text/plain": [
       "     Содержание Сервис Приоритет   Статус Функциональная группа  \\\n",
       "4119  36 заявка    АРМ  3-Низкий  Отменен                 ФГ250   \n",
       "\n",
       "            Крайний срок      Дата обращения Тип обращения на момент подачи  \\\n",
       "4119 2017-03-08 11:36:00 2018-02-01 06:46:00                         Запрос   \n",
       "\n",
       "     Тип обращения итоговый  \\\n",
       "4119                 Запрос   \n",
       "\n",
       "                                                Решение  \\\n",
       "4119  Запрос отменён пользователем из портала самооб...   \n",
       "\n",
       "      Тип переклассификации Дата восстановления Дата закрытия обращения  \\\n",
       "4119                      0 2018-02-02 09:37:00                     NaT   \n",
       "\n",
       "     Критичность  Влияние Система     Место  \n",
       "4119       4-Нет  3-Малое    База  Место163  "
      ]
     },
     "execution_count": 37,
     "metadata": {},
     "output_type": "execute_result"
    }
   ],
   "source": [
    "train[train['Крайний срок'] < train['Дата обращения']]"
   ]
  },
  {
   "cell_type": "code",
   "execution_count": 38,
   "id": "1bc46e1c",
   "metadata": {},
   "outputs": [
    {
     "data": {
      "text/html": [
       "<div>\n",
       "<style scoped>\n",
       "    .dataframe tbody tr th:only-of-type {\n",
       "        vertical-align: middle;\n",
       "    }\n",
       "\n",
       "    .dataframe tbody tr th {\n",
       "        vertical-align: top;\n",
       "    }\n",
       "\n",
       "    .dataframe thead th {\n",
       "        text-align: right;\n",
       "    }\n",
       "</style>\n",
       "<table border=\"1\" class=\"dataframe\">\n",
       "  <thead>\n",
       "    <tr style=\"text-align: right;\">\n",
       "      <th></th>\n",
       "      <th>id</th>\n",
       "      <th>Содержание</th>\n",
       "      <th>Сервис</th>\n",
       "      <th>Приоритет</th>\n",
       "      <th>Статус</th>\n",
       "      <th>Функциональная группа</th>\n",
       "      <th>Крайний срок</th>\n",
       "      <th>Дата обращения</th>\n",
       "      <th>Тип обращения на момент подачи</th>\n",
       "      <th>Тип обращения итоговый</th>\n",
       "      <th>Решение</th>\n",
       "      <th>Тип переклассификации</th>\n",
       "      <th>Дата восстановления</th>\n",
       "      <th>Дата закрытия обращения</th>\n",
       "      <th>Критичность</th>\n",
       "      <th>Влияние</th>\n",
       "      <th>Система</th>\n",
       "      <th>Место</th>\n",
       "    </tr>\n",
       "  </thead>\n",
       "  <tbody>\n",
       "    <tr>\n",
       "      <th>4207</th>\n",
       "      <td>19010</td>\n",
       "      <td>Заявка на управление доступом к коммуникационн...</td>\n",
       "      <td>АРМ</td>\n",
       "      <td>3-Низкий</td>\n",
       "      <td>Отменен</td>\n",
       "      <td>ФГ569</td>\n",
       "      <td>2017-03-12 13:36:00</td>\n",
       "      <td>2018-02-23 08:13:00</td>\n",
       "      <td>Запрос</td>\n",
       "      <td>NaN</td>\n",
       "      <td>Запрос отменён пользователем из портала самооб...</td>\n",
       "      <td>NaN</td>\n",
       "      <td>2018-03-10 13:45:00</td>\n",
       "      <td>NaT</td>\n",
       "      <td>4-Нет</td>\n",
       "      <td>3-Малое</td>\n",
       "      <td>База</td>\n",
       "      <td>Место150</td>\n",
       "    </tr>\n",
       "    <tr>\n",
       "      <th>5053</th>\n",
       "      <td>19856</td>\n",
       "      <td>Интранет-портал: технические вопросы</td>\n",
       "      <td>Сервис65</td>\n",
       "      <td>3-Низкий</td>\n",
       "      <td>Отменен</td>\n",
       "      <td>ФГ520</td>\n",
       "      <td>2017-03-10 17:36:00</td>\n",
       "      <td>2018-02-24 08:36:00</td>\n",
       "      <td>Запрос</td>\n",
       "      <td>NaN</td>\n",
       "      <td>Запрос отменён пользователем из портала самооб...</td>\n",
       "      <td>NaN</td>\n",
       "      <td>2018-02-25 12:45:00</td>\n",
       "      <td>NaT</td>\n",
       "      <td>2-Повышенная</td>\n",
       "      <td>4-Нет влияния</td>\n",
       "      <td>Система105</td>\n",
       "      <td>Место26</td>\n",
       "    </tr>\n",
       "  </tbody>\n",
       "</table>\n",
       "</div>"
      ],
      "text/plain": [
       "         id                                         Содержание    Сервис  \\\n",
       "4207  19010  Заявка на управление доступом к коммуникационн...       АРМ   \n",
       "5053  19856               Интранет-портал: технические вопросы  Сервис65   \n",
       "\n",
       "     Приоритет   Статус Функциональная группа        Крайний срок  \\\n",
       "4207  3-Низкий  Отменен                 ФГ569 2017-03-12 13:36:00   \n",
       "5053  3-Низкий  Отменен                 ФГ520 2017-03-10 17:36:00   \n",
       "\n",
       "          Дата обращения Тип обращения на момент подачи  \\\n",
       "4207 2018-02-23 08:13:00                         Запрос   \n",
       "5053 2018-02-24 08:36:00                         Запрос   \n",
       "\n",
       "      Тип обращения итоговый  \\\n",
       "4207                     NaN   \n",
       "5053                     NaN   \n",
       "\n",
       "                                                Решение  \\\n",
       "4207  Запрос отменён пользователем из портала самооб...   \n",
       "5053  Запрос отменён пользователем из портала самооб...   \n",
       "\n",
       "      Тип переклассификации Дата восстановления Дата закрытия обращения  \\\n",
       "4207                    NaN 2018-03-10 13:45:00                     NaT   \n",
       "5053                    NaN 2018-02-25 12:45:00                     NaT   \n",
       "\n",
       "       Критичность        Влияние     Система     Место  \n",
       "4207         4-Нет        3-Малое        База  Место150  \n",
       "5053  2-Повышенная  4-Нет влияния  Система105   Место26  "
      ]
     },
     "execution_count": 38,
     "metadata": {},
     "output_type": "execute_result"
    }
   ],
   "source": [
    "test[test['Крайний срок'] < test['Дата обращения']]"
   ]
  },
  {
   "cell_type": "code",
   "execution_count": 39,
   "id": "0622bd9b",
   "metadata": {},
   "outputs": [
    {
     "data": {
      "text/plain": [
       "0    407\n",
       "Name: Тип переклассификации, dtype: int64"
      ]
     },
     "execution_count": 39,
     "metadata": {},
     "output_type": "execute_result"
    }
   ],
   "source": [
    "# отменен - однозначно 0\n",
    "train[train['Статус'] == 'Отменен']['Тип переклассификации'].value_counts()"
   ]
  },
  {
   "cell_type": "markdown",
   "id": "99f69a87",
   "metadata": {},
   "source": [
    "Создадим словарь с ранговыми признаками, объединив их"
   ]
  },
  {
   "cell_type": "code",
   "execution_count": 40,
   "id": "e1751281",
   "metadata": {},
   "outputs": [],
   "source": [
    "ranks = train[['Приоритет', 'Критичность', 'Влияние']].drop_duplicates().sort_values(by=['Приоритет', 'Критичность', 'Влияние'], ascending=False)\n",
    "rank_dict = ranks.reset_index().drop(columns='index').reset_index().set_index('index').T.to_dict('list')"
   ]
  },
  {
   "cell_type": "code",
   "execution_count": 41,
   "id": "888d7ddc",
   "metadata": {},
   "outputs": [
    {
     "data": {
      "text/html": [
       "<div>\n",
       "<style scoped>\n",
       "    .dataframe tbody tr th:only-of-type {\n",
       "        vertical-align: middle;\n",
       "    }\n",
       "\n",
       "    .dataframe tbody tr th {\n",
       "        vertical-align: top;\n",
       "    }\n",
       "\n",
       "    .dataframe thead th {\n",
       "        text-align: right;\n",
       "    }\n",
       "</style>\n",
       "<table border=\"1\" class=\"dataframe\">\n",
       "  <thead>\n",
       "    <tr style=\"text-align: right;\">\n",
       "      <th></th>\n",
       "      <th>Ранг важности</th>\n",
       "      <th>Приоритет</th>\n",
       "      <th>Критичность</th>\n",
       "      <th>Влияние</th>\n",
       "    </tr>\n",
       "  </thead>\n",
       "  <tbody>\n",
       "    <tr>\n",
       "      <th>0</th>\n",
       "      <td>0</td>\n",
       "      <td>3-Низкий</td>\n",
       "      <td>4-Нет</td>\n",
       "      <td>4-Нет влияния</td>\n",
       "    </tr>\n",
       "    <tr>\n",
       "      <th>1</th>\n",
       "      <td>1</td>\n",
       "      <td>3-Низкий</td>\n",
       "      <td>4-Нет</td>\n",
       "      <td>3-Малое</td>\n",
       "    </tr>\n",
       "    <tr>\n",
       "      <th>2</th>\n",
       "      <td>2</td>\n",
       "      <td>3-Низкий</td>\n",
       "      <td>4-Нет</td>\n",
       "      <td>2-Значительное</td>\n",
       "    </tr>\n",
       "    <tr>\n",
       "      <th>3</th>\n",
       "      <td>3</td>\n",
       "      <td>3-Низкий</td>\n",
       "      <td>4-Нет</td>\n",
       "      <td>1-Всеохватывающее</td>\n",
       "    </tr>\n",
       "    <tr>\n",
       "      <th>4</th>\n",
       "      <td>4</td>\n",
       "      <td>3-Низкий</td>\n",
       "      <td>3-Базовая</td>\n",
       "      <td>4-Нет влияния</td>\n",
       "    </tr>\n",
       "    <tr>\n",
       "      <th>5</th>\n",
       "      <td>5</td>\n",
       "      <td>3-Низкий</td>\n",
       "      <td>3-Базовая</td>\n",
       "      <td>3-Малое</td>\n",
       "    </tr>\n",
       "    <tr>\n",
       "      <th>6</th>\n",
       "      <td>6</td>\n",
       "      <td>3-Низкий</td>\n",
       "      <td>3-Базовая</td>\n",
       "      <td>2-Значительное</td>\n",
       "    </tr>\n",
       "    <tr>\n",
       "      <th>7</th>\n",
       "      <td>7</td>\n",
       "      <td>3-Низкий</td>\n",
       "      <td>2-Повышенная</td>\n",
       "      <td>4-Нет влияния</td>\n",
       "    </tr>\n",
       "    <tr>\n",
       "      <th>8</th>\n",
       "      <td>8</td>\n",
       "      <td>3-Низкий</td>\n",
       "      <td>2-Повышенная</td>\n",
       "      <td>3-Малое</td>\n",
       "    </tr>\n",
       "    <tr>\n",
       "      <th>9</th>\n",
       "      <td>9</td>\n",
       "      <td>3-Низкий</td>\n",
       "      <td>1-Особая</td>\n",
       "      <td>4-Нет влияния</td>\n",
       "    </tr>\n",
       "    <tr>\n",
       "      <th>10</th>\n",
       "      <td>10</td>\n",
       "      <td>2-Средний</td>\n",
       "      <td>2-Повышенная</td>\n",
       "      <td>2-Значительное</td>\n",
       "    </tr>\n",
       "    <tr>\n",
       "      <th>11</th>\n",
       "      <td>11</td>\n",
       "      <td>2-Средний</td>\n",
       "      <td>1-Особая</td>\n",
       "      <td>4-Нет влияния</td>\n",
       "    </tr>\n",
       "    <tr>\n",
       "      <th>12</th>\n",
       "      <td>12</td>\n",
       "      <td>2-Средний</td>\n",
       "      <td>1-Особая</td>\n",
       "      <td>3-Малое</td>\n",
       "    </tr>\n",
       "    <tr>\n",
       "      <th>13</th>\n",
       "      <td>13</td>\n",
       "      <td>2-Средний</td>\n",
       "      <td>1-Особая</td>\n",
       "      <td>2-Значительное</td>\n",
       "    </tr>\n",
       "    <tr>\n",
       "      <th>14</th>\n",
       "      <td>14</td>\n",
       "      <td>1-Высокий</td>\n",
       "      <td>1-Особая</td>\n",
       "      <td>2-Значительное</td>\n",
       "    </tr>\n",
       "    <tr>\n",
       "      <th>15</th>\n",
       "      <td>15</td>\n",
       "      <td>0-Критический</td>\n",
       "      <td>1-Особая</td>\n",
       "      <td>1-Всеохватывающее</td>\n",
       "    </tr>\n",
       "  </tbody>\n",
       "</table>\n",
       "</div>"
      ],
      "text/plain": [
       "    Ранг важности      Приоритет   Критичность            Влияние\n",
       "0               0       3-Низкий         4-Нет      4-Нет влияния\n",
       "1               1       3-Низкий         4-Нет            3-Малое\n",
       "2               2       3-Низкий         4-Нет     2-Значительное\n",
       "3               3       3-Низкий         4-Нет  1-Всеохватывающее\n",
       "4               4       3-Низкий     3-Базовая      4-Нет влияния\n",
       "5               5       3-Низкий     3-Базовая            3-Малое\n",
       "6               6       3-Низкий     3-Базовая     2-Значительное\n",
       "7               7       3-Низкий  2-Повышенная      4-Нет влияния\n",
       "8               8       3-Низкий  2-Повышенная            3-Малое\n",
       "9               9       3-Низкий      1-Особая      4-Нет влияния\n",
       "10             10      2-Средний  2-Повышенная     2-Значительное\n",
       "11             11      2-Средний      1-Особая      4-Нет влияния\n",
       "12             12      2-Средний      1-Особая            3-Малое\n",
       "13             13      2-Средний      1-Особая     2-Значительное\n",
       "14             14      1-Высокий      1-Особая     2-Значительное\n",
       "15             15  0-Критический      1-Особая  1-Всеохватывающее"
      ]
     },
     "execution_count": 41,
     "metadata": {},
     "output_type": "execute_result"
    }
   ],
   "source": [
    "ranks.reset_index().drop(columns='index').reset_index().rename(columns={'index': 'Ранг важности'})"
   ]
  },
  {
   "cell_type": "markdown",
   "id": "adb2f482",
   "metadata": {},
   "source": [
    "## Подготовка датасета (не-текстовые данные)"
   ]
  },
  {
   "cell_type": "markdown",
   "id": "72d97dae",
   "metadata": {},
   "source": [
    "Подготовим обучающие и тестовые данные -- проработаем пропущенные значения, сгенерируем новые признаки для визуального анализа и удалим ненужные. Сохраним обработанные данные. Текстовые признаки будут обрабатываться на этапе. с обучением моделей"
   ]
  },
  {
   "cell_type": "code",
   "execution_count": 42,
   "id": "55071700",
   "metadata": {},
   "outputs": [],
   "source": [
    "SECS_IN_DAY = 86400\n",
    "DICT_STATUS = {'Отменен': 0, 'Закрыт': 1}\n",
    "DICT_DAY_WEEK = {'Monday': 0, 'Tuesday': 1, 'Wednesday': 2, 'Thursday': 3, 'Friday': 4,\n",
    "                 'Saturday': 5, 'Sunday': 6}\n",
    "DICT_TYPE = {'Инцидент': 0, 'Запрос': 1}\n",
    "    \n",
    "def fill_nans(df: pd.DataFrame) -> pd.DataFrame:\n",
    "    df['Дата восстановления'] = df['Дата восстановления'].fillna(df['Дата закрытия обращения'])\n",
    "    df['Дата закрытия обращения'] = df['Дата закрытия обращения'].fillna(df['Дата восстановления'])\n",
    "    \n",
    "    return df\n",
    "    \n",
    "def make_total_rank_feature(df: pd.DataFrame, rank_dict: dict) -> pd.DataFrame:\n",
    "    df['Ранг важности'] = 0\n",
    "    for key in rank_dict.keys():\n",
    "        df.loc[(df['Приоритет'] == rank_dict[key][0]) & (df['Критичность'] == rank_dict[key][1]) & (df['Влияние'] == rank_dict[key][2]), 'Ранг важности'] = key\n",
    "    \n",
    "    df.drop(columns=['Приоритет', 'Критичность', 'Влияние'], inplace=True)\n",
    "    \n",
    "    return df\n",
    "\n",
    "def take_seconds(time: pd.Timedelta) -> int:\n",
    "    days = time.days\n",
    "    seconds = time.seconds\n",
    "    \n",
    "    total_seconds = days * SECS_IN_DAY + seconds\n",
    "    \n",
    "    return total_seconds\n",
    "\n",
    "def make_new_date_features(df: pd.DataFrame) -> pd.DataFrame:\n",
    "    df['День недели обращения'] = df['Дата обращения'].dt.strftime('%A')\n",
    "    df['Месяц обращения'] = df['Дата обращения'].dt.month\n",
    "    df['Час обращения'] = df['Дата обращения'].dt.hour\n",
    "    df['День года обращения'] = df['Дата обращения'].dt.strftime('%j').astype(int)\n",
    "    \n",
    "    return df\n",
    "\n",
    "def make_features_with_seconds(df: pd.DataFrame) -> pd.DataFrame:\n",
    "    df['Время с обращения до восстановления'] = (df['Дата восстановления'] - df['Дата обращения']).apply(take_seconds)\n",
    "    df['Время с обращения до закрытия'] = (df['Дата закрытия обращения'] - df['Дата обращения']).apply(take_seconds)\n",
    "    df['Время с обращения до крайнего срока'] = (df['Крайний срок'] - df['Дата обращения']).apply(take_seconds)\n",
    "    df['Время с восстановления до крайнего срока'] = (df['Крайний срок'] - df['Дата восстановления']).apply(take_seconds)\n",
    "    df['Время с закрытия до крайнего срока'] = (df['Крайний срок'] - df['Дата закрытия обращения']).apply(take_seconds)\n",
    "    \n",
    "    return df\n",
    "\n",
    "def format_service(service: str) -> int:\n",
    "    if service == 'АРМ':\n",
    "        return 0\n",
    "    else:\n",
    "        return int(service[6:])\n",
    "    \n",
    "def format_func_group(group: str) -> int:\n",
    "    if group[:2] == 'ФГ' and group[2].isdigit():\n",
    "        return int(group[2:])\n",
    "    elif group[:2] == 'СВ'  and group[2].isdigit():\n",
    "        return int(group[2:]) + 1000\n",
    "    else:\n",
    "        return 2000\n",
    "    \n",
    "def format_system(system: str) -> int:\n",
    "    if system == 'База':\n",
    "        return 0\n",
    "    elif system[7].isdigit():\n",
    "        return int(system[7:])\n",
    "    else:\n",
    "        return 1000\n",
    "    \n",
    "def format_place(place: str) -> int:\n",
    "    if place == 'К':\n",
    "        return 1001\n",
    "    elif place == 'Н':\n",
    "        return 1002\n",
    "    elif place == '#Н/Д':\n",
    "        return 1003\n",
    "    elif place[5].isdigit():\n",
    "        return int(place[5:])\n",
    "    else:\n",
    "        return 1000\n",
    "\n",
    "def format_categ_features(df: pd.DataFrame) -> pd.DataFrame:\n",
    "    df['Сервис'] = df['Сервис'].apply(format_service)\n",
    "    df['Функциональная группа'] = df['Функциональная группа'].apply(format_func_group)\n",
    "    df['Система'] = df['Система'].apply(format_system)\n",
    "    df['Место'] = df['Место'].apply(format_place)\n",
    "    \n",
    "    df['Статус'] = df['Статус'].map(DICT_STATUS)\n",
    "    df['День недели обращения'] = df['День недели обращения'].map(DICT_DAY_WEEK)\n",
    "    df['Тип обращения на момент подачи'] = df['Тип обращения на момент подачи'].map(DICT_TYPE)\n",
    "    df['Тип обращения итоговый'] = df['Тип обращения итоговый'].map(DICT_TYPE)\n",
    "    \n",
    "    return df\n",
    "\n",
    "def preprocess_not_text_features_and_make_new_features(df: pd.DataFrame, rank_dict: dict, file_path: str) -> pd.DataFrame:\n",
    "    df = fill_nans(df)\n",
    "    df = make_total_rank_feature(df, rank_dict)\n",
    "    df = make_new_date_features(df)\n",
    "    df = make_features_with_seconds(df)\n",
    "    df = format_categ_features(df)\n",
    "    \n",
    "    display(df.info())\n",
    "    display(df.head())\n",
    "    \n",
    "    df.to_csv(file_path, index=False)\n",
    "    \n",
    "    return df"
   ]
  },
  {
   "cell_type": "code",
   "execution_count": 43,
   "id": "14435a78",
   "metadata": {},
   "outputs": [
    {
     "name": "stdout",
     "output_type": "stream",
     "text": [
      "<class 'pandas.core.frame.DataFrame'>\n",
      "Int64Index: 13284 entries, 0 to 14802\n",
      "Data columns (total 24 columns):\n",
      " #   Column                                    Non-Null Count  Dtype         \n",
      "---  ------                                    --------------  -----         \n",
      " 0   Содержание                                13283 non-null  object        \n",
      " 1   Сервис                                    13284 non-null  int64         \n",
      " 2   Статус                                    13284 non-null  int64         \n",
      " 3   Функциональная группа                     13284 non-null  int64         \n",
      " 4   Крайний срок                              13284 non-null  datetime64[ns]\n",
      " 5   Дата обращения                            13284 non-null  datetime64[ns]\n",
      " 6   Тип обращения на момент подачи            13284 non-null  int64         \n",
      " 7   Тип обращения итоговый                    13284 non-null  int64         \n",
      " 8   Решение                                   13284 non-null  object        \n",
      " 9   Тип переклассификации                     13284 non-null  int64         \n",
      " 10  Дата восстановления                       13284 non-null  datetime64[ns]\n",
      " 11  Дата закрытия обращения                   13284 non-null  datetime64[ns]\n",
      " 12  Система                                   13284 non-null  int64         \n",
      " 13  Место                                     13284 non-null  int64         \n",
      " 14  Ранг важности                             13284 non-null  int64         \n",
      " 15  День недели обращения                     13284 non-null  int64         \n",
      " 16  Месяц обращения                           13284 non-null  int64         \n",
      " 17  Час обращения                             13284 non-null  int64         \n",
      " 18  День года обращения                       13284 non-null  int64         \n",
      " 19  Время с обращения до восстановления       13284 non-null  int64         \n",
      " 20  Время с обращения до закрытия             13284 non-null  int64         \n",
      " 21  Время с обращения до крайнего срока       13284 non-null  int64         \n",
      " 22  Время с восстановления до крайнего срока  13284 non-null  int64         \n",
      " 23  Время с закрытия до крайнего срока        13284 non-null  int64         \n",
      "dtypes: datetime64[ns](4), int64(18), object(2)\n",
      "memory usage: 2.5+ MB\n"
     ]
    },
    {
     "data": {
      "text/plain": [
       "None"
      ]
     },
     "metadata": {},
     "output_type": "display_data"
    },
    {
     "data": {
      "text/html": [
       "<div>\n",
       "<style scoped>\n",
       "    .dataframe tbody tr th:only-of-type {\n",
       "        vertical-align: middle;\n",
       "    }\n",
       "\n",
       "    .dataframe tbody tr th {\n",
       "        vertical-align: top;\n",
       "    }\n",
       "\n",
       "    .dataframe thead th {\n",
       "        text-align: right;\n",
       "    }\n",
       "</style>\n",
       "<table border=\"1\" class=\"dataframe\">\n",
       "  <thead>\n",
       "    <tr style=\"text-align: right;\">\n",
       "      <th></th>\n",
       "      <th>Содержание</th>\n",
       "      <th>Сервис</th>\n",
       "      <th>Статус</th>\n",
       "      <th>Функциональная группа</th>\n",
       "      <th>Крайний срок</th>\n",
       "      <th>Дата обращения</th>\n",
       "      <th>Тип обращения на момент подачи</th>\n",
       "      <th>Тип обращения итоговый</th>\n",
       "      <th>Решение</th>\n",
       "      <th>Тип переклассификации</th>\n",
       "      <th>...</th>\n",
       "      <th>Ранг важности</th>\n",
       "      <th>День недели обращения</th>\n",
       "      <th>Месяц обращения</th>\n",
       "      <th>Час обращения</th>\n",
       "      <th>День года обращения</th>\n",
       "      <th>Время с обращения до восстановления</th>\n",
       "      <th>Время с обращения до закрытия</th>\n",
       "      <th>Время с обращения до крайнего срока</th>\n",
       "      <th>Время с восстановления до крайнего срока</th>\n",
       "      <th>Время с закрытия до крайнего срока</th>\n",
       "    </tr>\n",
       "  </thead>\n",
       "  <tbody>\n",
       "    <tr>\n",
       "      <th>0</th>\n",
       "      <td>Тест</td>\n",
       "      <td>0</td>\n",
       "      <td>0</td>\n",
       "      <td>1</td>\n",
       "      <td>2018-01-24 07:42:00</td>\n",
       "      <td>2018-01-19 09:27:00</td>\n",
       "      <td>1</td>\n",
       "      <td>1</td>\n",
       "      <td>Тест</td>\n",
       "      <td>0</td>\n",
       "      <td>...</td>\n",
       "      <td>1</td>\n",
       "      <td>4</td>\n",
       "      <td>1</td>\n",
       "      <td>9</td>\n",
       "      <td>19</td>\n",
       "      <td>960</td>\n",
       "      <td>960</td>\n",
       "      <td>425700</td>\n",
       "      <td>424740</td>\n",
       "      <td>424740</td>\n",
       "    </tr>\n",
       "    <tr>\n",
       "      <th>1</th>\n",
       "      <td>Тестовое обращение</td>\n",
       "      <td>0</td>\n",
       "      <td>0</td>\n",
       "      <td>1</td>\n",
       "      <td>2018-01-24 10:51:00</td>\n",
       "      <td>2018-01-19 09:36:00</td>\n",
       "      <td>1</td>\n",
       "      <td>1</td>\n",
       "      <td>Тест</td>\n",
       "      <td>0</td>\n",
       "      <td>...</td>\n",
       "      <td>1</td>\n",
       "      <td>4</td>\n",
       "      <td>1</td>\n",
       "      <td>9</td>\n",
       "      <td>19</td>\n",
       "      <td>300</td>\n",
       "      <td>300</td>\n",
       "      <td>436500</td>\n",
       "      <td>436200</td>\n",
       "      <td>436200</td>\n",
       "    </tr>\n",
       "    <tr>\n",
       "      <th>2</th>\n",
       "      <td>Выполнена разблокировка у/з REGION\\*****</td>\n",
       "      <td>7</td>\n",
       "      <td>1</td>\n",
       "      <td>8</td>\n",
       "      <td>2018-01-31 07:51:00</td>\n",
       "      <td>2018-01-25 22:47:00</td>\n",
       "      <td>1</td>\n",
       "      <td>1</td>\n",
       "      <td>Выполнена разблокировка у/з Ne_bosS\\*********\\...</td>\n",
       "      <td>0</td>\n",
       "      <td>...</td>\n",
       "      <td>12</td>\n",
       "      <td>3</td>\n",
       "      <td>1</td>\n",
       "      <td>22</td>\n",
       "      <td>25</td>\n",
       "      <td>0</td>\n",
       "      <td>637500</td>\n",
       "      <td>464640</td>\n",
       "      <td>464640</td>\n",
       "      <td>-172860</td>\n",
       "    </tr>\n",
       "    <tr>\n",
       "      <th>3</th>\n",
       "      <td>.Не включается ПК</td>\n",
       "      <td>0</td>\n",
       "      <td>1</td>\n",
       "      <td>390</td>\n",
       "      <td>2018-01-28 05:50:00</td>\n",
       "      <td>2018-01-25 23:13:00</td>\n",
       "      <td>0</td>\n",
       "      <td>0</td>\n",
       "      <td>Выход из стоя БП. Заменён.</td>\n",
       "      <td>0</td>\n",
       "      <td>...</td>\n",
       "      <td>1</td>\n",
       "      <td>3</td>\n",
       "      <td>1</td>\n",
       "      <td>23</td>\n",
       "      <td>25</td>\n",
       "      <td>2520</td>\n",
       "      <td>2820</td>\n",
       "      <td>196620</td>\n",
       "      <td>194100</td>\n",
       "      <td>193800</td>\n",
       "    </tr>\n",
       "    <tr>\n",
       "      <th>4</th>\n",
       "      <td>Заявка № ***********, *******************</td>\n",
       "      <td>0</td>\n",
       "      <td>1</td>\n",
       "      <td>303</td>\n",
       "      <td>2018-02-03 02:51:00</td>\n",
       "      <td>2018-01-25 23:39:00</td>\n",
       "      <td>1</td>\n",
       "      <td>1</td>\n",
       "      <td>Работы по обращению выполнены</td>\n",
       "      <td>0</td>\n",
       "      <td>...</td>\n",
       "      <td>0</td>\n",
       "      <td>3</td>\n",
       "      <td>1</td>\n",
       "      <td>23</td>\n",
       "      <td>25</td>\n",
       "      <td>184500</td>\n",
       "      <td>807240</td>\n",
       "      <td>702720</td>\n",
       "      <td>518220</td>\n",
       "      <td>-104520</td>\n",
       "    </tr>\n",
       "  </tbody>\n",
       "</table>\n",
       "<p>5 rows × 24 columns</p>\n",
       "</div>"
      ],
      "text/plain": [
       "                                  Содержание  Сервис  Статус  \\\n",
       "0                                       Тест       0       0   \n",
       "1                         Тестовое обращение       0       0   \n",
       "2   Выполнена разблокировка у/з REGION\\*****       7       1   \n",
       "3                          .Не включается ПК       0       1   \n",
       "4  Заявка № ***********, *******************       0       1   \n",
       "\n",
       "   Функциональная группа        Крайний срок      Дата обращения  \\\n",
       "0                      1 2018-01-24 07:42:00 2018-01-19 09:27:00   \n",
       "1                      1 2018-01-24 10:51:00 2018-01-19 09:36:00   \n",
       "2                      8 2018-01-31 07:51:00 2018-01-25 22:47:00   \n",
       "3                    390 2018-01-28 05:50:00 2018-01-25 23:13:00   \n",
       "4                    303 2018-02-03 02:51:00 2018-01-25 23:39:00   \n",
       "\n",
       "   Тип обращения на момент подачи  Тип обращения итоговый  \\\n",
       "0                               1                       1   \n",
       "1                               1                       1   \n",
       "2                               1                       1   \n",
       "3                               0                       0   \n",
       "4                               1                       1   \n",
       "\n",
       "                                             Решение  Тип переклассификации  \\\n",
       "0                                               Тест                      0   \n",
       "1                                               Тест                      0   \n",
       "2  Выполнена разблокировка у/з Ne_bosS\\*********\\...                      0   \n",
       "3                         Выход из стоя БП. Заменён.                      0   \n",
       "4                      Работы по обращению выполнены                      0   \n",
       "\n",
       "   ... Ранг важности День недели обращения  Месяц обращения  Час обращения  \\\n",
       "0  ...             1                     4                1              9   \n",
       "1  ...             1                     4                1              9   \n",
       "2  ...            12                     3                1             22   \n",
       "3  ...             1                     3                1             23   \n",
       "4  ...             0                     3                1             23   \n",
       "\n",
       "   День года обращения  Время с обращения до восстановления  \\\n",
       "0                   19                                  960   \n",
       "1                   19                                  300   \n",
       "2                   25                                    0   \n",
       "3                   25                                 2520   \n",
       "4                   25                               184500   \n",
       "\n",
       "   Время с обращения до закрытия  Время с обращения до крайнего срока  \\\n",
       "0                            960                               425700   \n",
       "1                            300                               436500   \n",
       "2                         637500                               464640   \n",
       "3                           2820                               196620   \n",
       "4                         807240                               702720   \n",
       "\n",
       "   Время с восстановления до крайнего срока  \\\n",
       "0                                    424740   \n",
       "1                                    436200   \n",
       "2                                    464640   \n",
       "3                                    194100   \n",
       "4                                    518220   \n",
       "\n",
       "   Время с закрытия до крайнего срока  \n",
       "0                              424740  \n",
       "1                              436200  \n",
       "2                             -172860  \n",
       "3                              193800  \n",
       "4                             -104520  \n",
       "\n",
       "[5 rows x 24 columns]"
      ]
     },
     "metadata": {},
     "output_type": "display_data"
    }
   ],
   "source": [
    "train = preprocess_not_text_features_and_make_new_features(train, rank_dict, '../data/preprocessed_wo_text_train.csv')"
   ]
  },
  {
   "cell_type": "code",
   "execution_count": 44,
   "id": "7e18e0f9",
   "metadata": {},
   "outputs": [
    {
     "name": "stdout",
     "output_type": "stream",
     "text": [
      "<class 'pandas.core.frame.DataFrame'>\n",
      "RangeIndex: 6344 entries, 0 to 6343\n",
      "Data columns (total 25 columns):\n",
      " #   Column                                    Non-Null Count  Dtype         \n",
      "---  ------                                    --------------  -----         \n",
      " 0   id                                        6344 non-null   int64         \n",
      " 1   Содержание                                6344 non-null   object        \n",
      " 2   Сервис                                    6344 non-null   int64         \n",
      " 3   Статус                                    6344 non-null   int64         \n",
      " 4   Функциональная группа                     6344 non-null   int64         \n",
      " 5   Крайний срок                              6344 non-null   datetime64[ns]\n",
      " 6   Дата обращения                            6344 non-null   datetime64[ns]\n",
      " 7   Тип обращения на момент подачи            6344 non-null   int64         \n",
      " 8   Тип обращения итоговый                    0 non-null      float64       \n",
      " 9   Решение                                   6344 non-null   object        \n",
      " 10  Тип переклассификации                     0 non-null      float64       \n",
      " 11  Дата восстановления                       6344 non-null   datetime64[ns]\n",
      " 12  Дата закрытия обращения                   6344 non-null   datetime64[ns]\n",
      " 13  Система                                   6344 non-null   int64         \n",
      " 14  Место                                     6344 non-null   int64         \n",
      " 15  Ранг важности                             6344 non-null   int64         \n",
      " 16  День недели обращения                     6344 non-null   int64         \n",
      " 17  Месяц обращения                           6344 non-null   int64         \n",
      " 18  Час обращения                             6344 non-null   int64         \n",
      " 19  День года обращения                       6344 non-null   int64         \n",
      " 20  Время с обращения до восстановления       6344 non-null   int64         \n",
      " 21  Время с обращения до закрытия             6344 non-null   int64         \n",
      " 22  Время с обращения до крайнего срока       6344 non-null   int64         \n",
      " 23  Время с восстановления до крайнего срока  6344 non-null   int64         \n",
      " 24  Время с закрытия до крайнего срока        6344 non-null   int64         \n",
      "dtypes: datetime64[ns](4), float64(2), int64(17), object(2)\n",
      "memory usage: 1.2+ MB\n"
     ]
    },
    {
     "data": {
      "text/plain": [
       "None"
      ]
     },
     "metadata": {},
     "output_type": "display_data"
    },
    {
     "data": {
      "text/html": [
       "<div>\n",
       "<style scoped>\n",
       "    .dataframe tbody tr th:only-of-type {\n",
       "        vertical-align: middle;\n",
       "    }\n",
       "\n",
       "    .dataframe tbody tr th {\n",
       "        vertical-align: top;\n",
       "    }\n",
       "\n",
       "    .dataframe thead th {\n",
       "        text-align: right;\n",
       "    }\n",
       "</style>\n",
       "<table border=\"1\" class=\"dataframe\">\n",
       "  <thead>\n",
       "    <tr style=\"text-align: right;\">\n",
       "      <th></th>\n",
       "      <th>id</th>\n",
       "      <th>Содержание</th>\n",
       "      <th>Сервис</th>\n",
       "      <th>Статус</th>\n",
       "      <th>Функциональная группа</th>\n",
       "      <th>Крайний срок</th>\n",
       "      <th>Дата обращения</th>\n",
       "      <th>Тип обращения на момент подачи</th>\n",
       "      <th>Тип обращения итоговый</th>\n",
       "      <th>Решение</th>\n",
       "      <th>...</th>\n",
       "      <th>Ранг важности</th>\n",
       "      <th>День недели обращения</th>\n",
       "      <th>Месяц обращения</th>\n",
       "      <th>Час обращения</th>\n",
       "      <th>День года обращения</th>\n",
       "      <th>Время с обращения до восстановления</th>\n",
       "      <th>Время с обращения до закрытия</th>\n",
       "      <th>Время с обращения до крайнего срока</th>\n",
       "      <th>Время с восстановления до крайнего срока</th>\n",
       "      <th>Время с закрытия до крайнего срока</th>\n",
       "    </tr>\n",
       "  </thead>\n",
       "  <tbody>\n",
       "    <tr>\n",
       "      <th>0</th>\n",
       "      <td>14803</td>\n",
       "      <td>Заявка на предоставление и отзыв прав доступа ...</td>\n",
       "      <td>41</td>\n",
       "      <td>1</td>\n",
       "      <td>13</td>\n",
       "      <td>2018-02-22 07:51:00</td>\n",
       "      <td>2018-02-16 13:11:00</td>\n",
       "      <td>1</td>\n",
       "      <td>NaN</td>\n",
       "      <td>Работы по обращению выполнены</td>\n",
       "      <td>...</td>\n",
       "      <td>0</td>\n",
       "      <td>4</td>\n",
       "      <td>2</td>\n",
       "      <td>13</td>\n",
       "      <td>47</td>\n",
       "      <td>141660</td>\n",
       "      <td>758700</td>\n",
       "      <td>499200</td>\n",
       "      <td>357540</td>\n",
       "      <td>-259500</td>\n",
       "    </tr>\n",
       "    <tr>\n",
       "      <th>1</th>\n",
       "      <td>14804</td>\n",
       "      <td>Транспортный шлюз</td>\n",
       "      <td>61</td>\n",
       "      <td>1</td>\n",
       "      <td>1</td>\n",
       "      <td>2018-02-21 14:36:00</td>\n",
       "      <td>2018-02-16 13:13:00</td>\n",
       "      <td>1</td>\n",
       "      <td>NaN</td>\n",
       "      <td>проинф у.о.</td>\n",
       "      <td>...</td>\n",
       "      <td>12</td>\n",
       "      <td>4</td>\n",
       "      <td>2</td>\n",
       "      <td>13</td>\n",
       "      <td>47</td>\n",
       "      <td>16920</td>\n",
       "      <td>672060</td>\n",
       "      <td>436980</td>\n",
       "      <td>420060</td>\n",
       "      <td>-235080</td>\n",
       "    </tr>\n",
       "    <tr>\n",
       "      <th>2</th>\n",
       "      <td>14805</td>\n",
       "      <td>Заявка на предоставление и отзыв прав доступа ...</td>\n",
       "      <td>22</td>\n",
       "      <td>1</td>\n",
       "      <td>13</td>\n",
       "      <td>2018-03-31 06:36:00</td>\n",
       "      <td>2018-02-16 13:13:00</td>\n",
       "      <td>1</td>\n",
       "      <td>NaN</td>\n",
       "      <td>Работы по обращению выполнены</td>\n",
       "      <td>...</td>\n",
       "      <td>7</td>\n",
       "      <td>4</td>\n",
       "      <td>2</td>\n",
       "      <td>13</td>\n",
       "      <td>47</td>\n",
       "      <td>2343360</td>\n",
       "      <td>3004980</td>\n",
       "      <td>3691380</td>\n",
       "      <td>1348020</td>\n",
       "      <td>686400</td>\n",
       "    </tr>\n",
       "    <tr>\n",
       "      <th>3</th>\n",
       "      <td>14806</td>\n",
       "      <td>Заявка на предоставление и отзыв прав доступа ...</td>\n",
       "      <td>91</td>\n",
       "      <td>0</td>\n",
       "      <td>13</td>\n",
       "      <td>2018-02-21 14:29:00</td>\n",
       "      <td>2018-02-16 13:14:00</td>\n",
       "      <td>1</td>\n",
       "      <td>NaN</td>\n",
       "      <td>Запрос отменён пользователем из портала самооб...</td>\n",
       "      <td>...</td>\n",
       "      <td>7</td>\n",
       "      <td>4</td>\n",
       "      <td>2</td>\n",
       "      <td>13</td>\n",
       "      <td>47</td>\n",
       "      <td>60</td>\n",
       "      <td>60</td>\n",
       "      <td>436500</td>\n",
       "      <td>436440</td>\n",
       "      <td>436440</td>\n",
       "    </tr>\n",
       "    <tr>\n",
       "      <th>4</th>\n",
       "      <td>14807</td>\n",
       "      <td>Заявка на предоставление и отзыв прав доступа ...</td>\n",
       "      <td>22</td>\n",
       "      <td>1</td>\n",
       "      <td>13</td>\n",
       "      <td>2018-03-30 09:36:00</td>\n",
       "      <td>2018-02-16 13:14:00</td>\n",
       "      <td>1</td>\n",
       "      <td>NaN</td>\n",
       "      <td>Работы по обращению выполнены</td>\n",
       "      <td>...</td>\n",
       "      <td>7</td>\n",
       "      <td>4</td>\n",
       "      <td>2</td>\n",
       "      <td>13</td>\n",
       "      <td>47</td>\n",
       "      <td>2343300</td>\n",
       "      <td>3004920</td>\n",
       "      <td>3615720</td>\n",
       "      <td>1272420</td>\n",
       "      <td>610800</td>\n",
       "    </tr>\n",
       "  </tbody>\n",
       "</table>\n",
       "<p>5 rows × 25 columns</p>\n",
       "</div>"
      ],
      "text/plain": [
       "      id                                         Содержание  Сервис  Статус  \\\n",
       "0  14803  Заявка на предоставление и отзыв прав доступа ...      41       1   \n",
       "1  14804                                  Транспортный шлюз      61       1   \n",
       "2  14805  Заявка на предоставление и отзыв прав доступа ...      22       1   \n",
       "3  14806  Заявка на предоставление и отзыв прав доступа ...      91       0   \n",
       "4  14807  Заявка на предоставление и отзыв прав доступа ...      22       1   \n",
       "\n",
       "   Функциональная группа        Крайний срок      Дата обращения  \\\n",
       "0                     13 2018-02-22 07:51:00 2018-02-16 13:11:00   \n",
       "1                      1 2018-02-21 14:36:00 2018-02-16 13:13:00   \n",
       "2                     13 2018-03-31 06:36:00 2018-02-16 13:13:00   \n",
       "3                     13 2018-02-21 14:29:00 2018-02-16 13:14:00   \n",
       "4                     13 2018-03-30 09:36:00 2018-02-16 13:14:00   \n",
       "\n",
       "   Тип обращения на момент подачи  Тип обращения итоговый  \\\n",
       "0                               1                     NaN   \n",
       "1                               1                     NaN   \n",
       "2                               1                     NaN   \n",
       "3                               1                     NaN   \n",
       "4                               1                     NaN   \n",
       "\n",
       "                                             Решение  ...  Ранг важности  \\\n",
       "0                      Работы по обращению выполнены  ...              0   \n",
       "1                                        проинф у.о.  ...             12   \n",
       "2                      Работы по обращению выполнены  ...              7   \n",
       "3  Запрос отменён пользователем из портала самооб...  ...              7   \n",
       "4                      Работы по обращению выполнены  ...              7   \n",
       "\n",
       "  День недели обращения Месяц обращения  Час обращения  День года обращения  \\\n",
       "0                     4               2             13                   47   \n",
       "1                     4               2             13                   47   \n",
       "2                     4               2             13                   47   \n",
       "3                     4               2             13                   47   \n",
       "4                     4               2             13                   47   \n",
       "\n",
       "   Время с обращения до восстановления  Время с обращения до закрытия  \\\n",
       "0                               141660                         758700   \n",
       "1                                16920                         672060   \n",
       "2                              2343360                        3004980   \n",
       "3                                   60                             60   \n",
       "4                              2343300                        3004920   \n",
       "\n",
       "   Время с обращения до крайнего срока  \\\n",
       "0                               499200   \n",
       "1                               436980   \n",
       "2                              3691380   \n",
       "3                               436500   \n",
       "4                              3615720   \n",
       "\n",
       "   Время с восстановления до крайнего срока  \\\n",
       "0                                    357540   \n",
       "1                                    420060   \n",
       "2                                   1348020   \n",
       "3                                    436440   \n",
       "4                                   1272420   \n",
       "\n",
       "   Время с закрытия до крайнего срока  \n",
       "0                             -259500  \n",
       "1                             -235080  \n",
       "2                              686400  \n",
       "3                              436440  \n",
       "4                              610800  \n",
       "\n",
       "[5 rows x 25 columns]"
      ]
     },
     "metadata": {},
     "output_type": "display_data"
    }
   ],
   "source": [
    "test = preprocess_not_text_features_and_make_new_features(test, rank_dict, '../data/preprocessed_wo_text_test.csv')"
   ]
  },
  {
   "cell_type": "markdown",
   "id": "457b0323",
   "metadata": {},
   "source": [
    "## Рисуночки"
   ]
  },
  {
   "cell_type": "code",
   "execution_count": 45,
   "id": "03cf3ed9",
   "metadata": {},
   "outputs": [
    {
     "data": {
      "image/png": "[encoded data removed]",
      "text/plain": [
       "<Figure size 1440x504 with 1 Axes>"
      ]
     },
     "metadata": {
      "needs_background": "light"
     },
     "output_type": "display_data"
    }
   ],
   "source": [
    "plt.figure(figsize=(20,7))\n",
    "\n",
    "ax = sns.countplot(data=train, x='Ранг важности')\n",
    "\n",
    "abs_values = train['Ранг важности'].value_counts().sort_index().values\n",
    "ax.bar_label(container=ax.containers[0], labels=abs_values, fontsize=14)\n",
    "\n",
    "plt.xlabel('Ранг важности', fontsize=14)\n",
    "plt.ylabel('Количество обращений', fontsize=14)\n",
    "plt.title('Распределение количества обращений по рангам важности на обучающих данных (больше - важнее)', fontsize=16)\n",
    "\n",
    "plt.show()"
   ]
  },
  {
   "cell_type": "code",
   "execution_count": 46,
   "id": "f13b0138",
   "metadata": {},
   "outputs": [
    {
     "data": {
      "image/png": "[encoded data removed]",
      "text/plain": [
       "<Figure size 1440x504 with 1 Axes>"
      ]
     },
     "metadata": {
      "needs_background": "light"
     },
     "output_type": "display_data"
    }
   ],
   "source": [
    "plt.figure(figsize=(20,7))\n",
    "\n",
    "ax = sns.countplot(data=train, x='День недели обращения')\n",
    "\n",
    "abs_values = train['День недели обращения'].value_counts().sort_index().values\n",
    "ax.bar_label(container=ax.containers[0], labels=abs_values, fontsize=14)\n",
    "\n",
    "plt.xlabel('Дни недели', fontsize=14)\n",
    "plt.ylabel('Количество обращений', fontsize=14)\n",
    "plt.title('Распределение количества обращений по дням недели на обучающих данных', fontsize=16)\n",
    "plt.xticks(ticks=[i for i in range(7)],\n",
    "           labels=['Monday', 'Tuesday', 'Wednesday', 'Thursday', 'Friday', 'Saturday', 'Sunday'])\n",
    "\n",
    "plt.show()"
   ]
  },
  {
   "cell_type": "code",
   "execution_count": 47,
   "id": "e82610ca",
   "metadata": {},
   "outputs": [
    {
     "data": {
      "image/png": "[encoded data removed]",
      "text/plain": [
       "<Figure size 1440x504 with 1 Axes>"
      ]
     },
     "metadata": {
      "needs_background": "light"
     },
     "output_type": "display_data"
    }
   ],
   "source": [
    "plt.figure(figsize=(20,7))\n",
    "\n",
    "ax = sns.countplot(data=train, x='Час обращения')\n",
    "\n",
    "abs_values = train['Час обращения'].value_counts().sort_index().values\n",
    "ax.bar_label(container=ax.containers[0], labels=abs_values, fontsize=14)\n",
    "\n",
    "plt.xlabel('Часы обращений', fontsize=14)\n",
    "plt.ylabel('Количество обращений', fontsize=14)\n",
    "plt.title('Распределение количества обращений по часам на обучающих данных', fontsize=16)\n",
    "\n",
    "plt.show()"
   ]
  },
  {
   "cell_type": "code",
   "execution_count": 48,
   "id": "701608a3",
   "metadata": {},
   "outputs": [
    {
     "data": {
      "image/png": "[encoded data removed]",
      "text/plain": [
       "<Figure size 1440x504 with 1 Axes>"
      ]
     },
     "metadata": {
      "needs_background": "light"
     },
     "output_type": "display_data"
    }
   ],
   "source": [
    "plt.figure(figsize=(20,7))\n",
    "\n",
    "ax = sns.countplot(data=train, x='День года обращения')\n",
    "\n",
    "abs_values = train['День года обращения'].value_counts().sort_index().values\n",
    "ax.bar_label(container=ax.containers[0], labels=abs_values, fontsize=14)\n",
    "\n",
    "plt.xlabel('День года обращения', fontsize=14)\n",
    "plt.ylabel('Количество обращений', fontsize=14)\n",
    "plt.title('Распределение количества обращений по дням года на обучающих данных', fontsize=16)\n",
    "\n",
    "plt.show()"
   ]
  },
  {
   "cell_type": "code",
   "execution_count": 49,
   "id": "b19324f6",
   "metadata": {},
   "outputs": [
    {
     "data": {
      "image/png": "[encoded data removed]",
      "text/plain": [
       "<Figure size 720x288 with 1 Axes>"
      ]
     },
     "metadata": {
      "needs_background": "light"
     },
     "output_type": "display_data"
    }
   ],
   "source": [
    "train_corr = train[['Сервис', 'Статус', 'Функциональная группа',  'Тип обращения итоговый',\n",
    "       'Система', 'Место', 'Ранг важности', 'Время с обращения до восстановления',\n",
    "       'Время с обращения до закрытия', 'Время с обращения до крайнего срока',\n",
    "       'Время с восстановления до крайнего срока',\n",
    "       'Время с закрытия до крайнего срока', 'День недели обращения',\n",
    "       'Месяц обращения', 'Час обращения',\n",
    "       'День года обращения']]\n",
    "\n",
    "correlations = train_corr.corrwith(train_corr['Тип обращения итоговый']).sort_values(ascending=False)\n",
    "\n",
    "plot = sns.barplot(y=correlations.index, x=correlations)\n",
    "plot.figure.set_size_inches(10, 4)\n",
    "plt.title('Корреляция признаков с таргетом', fontsize=16)\n",
    "\n",
    "plt.show()"
   ]
  },
  {
   "cell_type": "code",
   "execution_count": 51,
   "id": "a0f21bca",
   "metadata": {},
   "outputs": [
    {
     "name": "stderr",
     "output_type": "stream",
     "text": [
      "/Users/elena/anaconda3/lib/python3.8/site-packages/pandas/core/arraylike.py:397: RuntimeWarning: invalid value encountered in log1p\n",
      "  result = getattr(ufunc, method)(*inputs, **kwargs)\n"
     ]
    },
    {
     "data": {
      "image/png": "[encoded data removed]",
      "text/plain": [
       "<Figure size 1440x504 with 1 Axes>"
      ]
     },
     "metadata": {
      "needs_background": "light"
     },
     "output_type": "display_data"
    }
   ],
   "source": [
    "plt.figure(figsize=(20,7))\n",
    "\n",
    "train['Лог Время с обращения до восстановления'] = np.log1p(train['Время с обращения до восстановления'])\n",
    "sns.histplot(data=train, x='Лог Время с обращения до восстановления')\n",
    "\n",
    "plt.xlabel('Время с обращения до восстановления', fontsize=14)\n",
    "plt.title('Гистограма по признаку Время с обращения до восстановления в логарифмической шкале', fontsize=16)\n",
    "\n",
    "plt.show()"
   ]
  },
  {
   "cell_type": "code",
   "execution_count": 52,
   "id": "7a072db6",
   "metadata": {},
   "outputs": [
    {
     "data": {
      "image/png": "[encoded data removed]",
      "text/plain": [
       "<Figure size 1440x504 with 1 Axes>"
      ]
     },
     "metadata": {
      "needs_background": "light"
     },
     "output_type": "display_data"
    }
   ],
   "source": [
    "plt.figure(figsize=(20,7))\n",
    "\n",
    "train['Лог Время с обращения до закрытия'] = np.log1p(train['Время с обращения до закрытия'])\n",
    "sns.histplot(data=train, x='Лог Время с обращения до закрытия')\n",
    "\n",
    "plt.xlabel('Время с обращения до закрытия', fontsize=14)\n",
    "plt.title('Гистограма по признаку Время с обращения до закрытия в логарифмической шкале', fontsize=16)\n",
    "\n",
    "plt.show()"
   ]
  },
  {
   "cell_type": "code",
   "execution_count": 53,
   "id": "0475b3c8",
   "metadata": {},
   "outputs": [
    {
     "name": "stderr",
     "output_type": "stream",
     "text": [
      "/Users/elena/anaconda3/lib/python3.8/site-packages/pandas/core/arraylike.py:397: RuntimeWarning: invalid value encountered in log1p\n",
      "  result = getattr(ufunc, method)(*inputs, **kwargs)\n"
     ]
    },
    {
     "data": {
      "image/png": "[encoded data removed]",
      "text/plain": [
       "<Figure size 1440x504 with 1 Axes>"
      ]
     },
     "metadata": {
      "needs_background": "light"
     },
     "output_type": "display_data"
    }
   ],
   "source": [
    "plt.figure(figsize=(20,7))\n",
    "\n",
    "train['Лог Время с обращения до крайнего срока'] = np.log1p(train['Время с обращения до крайнего срока'])\n",
    "sns.histplot(data=train, x='Лог Время с обращения до крайнего срока')\n",
    "\n",
    "plt.xlabel('Время с обращения до крайнего срока', fontsize=14)\n",
    "plt.title('Гистограма по признаку Время с обращения до крайнего срока в логарифмической шкале', fontsize=16)\n",
    "\n",
    "plt.show()"
   ]
  },
  {
   "cell_type": "code",
   "execution_count": 54,
   "id": "6f5b2269",
   "metadata": {},
   "outputs": [
    {
     "name": "stderr",
     "output_type": "stream",
     "text": [
      "/Users/elena/anaconda3/lib/python3.8/site-packages/pandas/core/arraylike.py:397: RuntimeWarning: invalid value encountered in log1p\n",
      "  result = getattr(ufunc, method)(*inputs, **kwargs)\n"
     ]
    },
    {
     "data": {
      "image/png": "[encoded data removed]",
      "text/plain": [
       "<Figure size 1440x504 with 1 Axes>"
      ]
     },
     "metadata": {
      "needs_background": "light"
     },
     "output_type": "display_data"
    }
   ],
   "source": [
    "plt.figure(figsize=(20,7))\n",
    "\n",
    "train['Лог Время с восстановления до крайнего срока'] = np.log1p(train['Время с восстановления до крайнего срока'])\n",
    "sns.histplot(data=train, x='Лог Время с восстановления до крайнего срока')\n",
    "\n",
    "plt.xlabel('Время с восстановления до крайнего срока', fontsize=14)\n",
    "plt.title('Гистограма по признаку Время с восстановления до крайнего срока в логарифмической шкале', fontsize=16)\n",
    "\n",
    "plt.show()"
   ]
  },
  {
   "cell_type": "code",
   "execution_count": 55,
   "id": "e043f8bd",
   "metadata": {},
   "outputs": [
    {
     "name": "stderr",
     "output_type": "stream",
     "text": [
      "/Users/elena/anaconda3/lib/python3.8/site-packages/pandas/core/arraylike.py:397: RuntimeWarning: invalid value encountered in log1p\n",
      "  result = getattr(ufunc, method)(*inputs, **kwargs)\n"
     ]
    },
    {
     "data": {
      "image/png": "[encoded data removed]",
      "text/plain": [
       "<Figure size 1440x504 with 1 Axes>"
      ]
     },
     "metadata": {
      "needs_background": "light"
     },
     "output_type": "display_data"
    }
   ],
   "source": [
    "plt.figure(figsize=(20,7))\n",
    "\n",
    "train['Лог Время с закрытия до крайнего срока'] = np.log1p(train['Время с закрытия до крайнего срока'])\n",
    "sns.histplot(data=train, x='Лог Время с закрытия до крайнего срока')\n",
    "\n",
    "plt.xlabel('Время с закрытия до крайнего срока', fontsize=14)\n",
    "plt.title('Гистограма по признаку Время с закрытия до крайнего срока в логарифмической шкале', fontsize=16)\n",
    "\n",
    "plt.show()"
   ]
  },
  {
   "cell_type": "code",
   "execution_count": null,
   "id": "0e85d721",
   "metadata": {},
   "outputs": [],
   "source": []
  },
  {
   "cell_type": "code",
   "execution_count": null,
   "id": "ec56ea6b",
   "metadata": {},
   "outputs": [],
   "source": []
  },
  {
   "cell_type": "code",
   "execution_count": null,
   "id": "efcc1aa2",
   "metadata": {},
   "outputs": [],
   "source": []
  }
 ],
 "metadata": {
  "kernelspec": {
   "display_name": "Python 3 (ipykernel)",
   "language": "python",
   "name": "python3"
  },
  "language_info": {
   "codemirror_mode": {
    "name": "ipython",
    "version": 3
   },
   "file_extension": ".py",
   "mimetype": "text/x-python",
   "name": "python",
   "nbconvert_exporter": "python",
   "pygments_lexer": "ipython3",
   "version": "3.8.12"
  }
 },
 "nbformat": 4,
 "nbformat_minor": 5
}
